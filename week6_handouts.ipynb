{
 "cells": [
  {
   "cell_type": "markdown",
   "metadata": {
    "id": "WiZPBiaG_-Ks"
   },
   "source": [
    "# Working with Pandas\n",
    "\n",
    "Pandas is very useful when working with tables in Python. The main Pandas object is called DataFrame and can be created using the command `pd.DataFrame()` (if the Pandas package was imported as `import pandas as pd`). However, it is more common to use the `pd.read_csv()` function to load data from a file instead of creating it from scratch.\n",
    "\n",
    "A lot of things happen when `read_csv()` is used, so it is adviced to run sanity checks to ensure the data was loaded as expected. Simplest things that can be done is checking how first and last rows look like by using functions like `head()` and `tail()`. You can also check the number and names of columns.\n",
    "\n",
    "## Exercises\n",
    "\n",
    "Download the dataset of animal species:\n",
    "```bash\n",
    "!curl -o species.csv https://raw.githubusercontent.com/MainakRepositor/Datasets/refs/heads/master/species.csv\n",
    "```\n",
    "\n",
    "1. Import Pandas. Load the downloaded CSV file with Pandas using `read_csv()` function and save its contents into a new variable.\n",
    "2. Print out first 10 rows - there are two ways of doing that, either with slicing or with a Pandas function. Try both methods.\n",
    "3. Print out last 10 rows with two different methods.\n",
    "4. Print out random 10 rows using a relevant Pandas function.\n",
    "5. Print out all column names.\n",
    "6. Print out random 10 rows and only these columns: \"Category\", \"Order\", \"Family\", \"Scientific Name\"."
   ]
  },
  {
   "cell_type": "code",
   "execution_count": 3,
   "metadata": {},
   "outputs": [
    {
     "name": "stdout",
     "output_type": "stream",
     "text": [
      "Requirement already satisfied: numpy in c:\\users\\rokas\\miniconda3\\envs\\test\\lib\\site-packages (1.26.4)\n"
     ]
    }
   ],
   "source": [
    "# !pip install numpy"
   ]
  },
  {
   "cell_type": "code",
   "execution_count": 4,
   "metadata": {
    "executionInfo": {
     "elapsed": 1193,
     "status": "ok",
     "timestamp": 1728455379215,
     "user": {
      "displayName": "Taisija Demcenko",
      "userId": "08999609198889042672"
     },
     "user_tz": -180
    },
    "id": "KWyX-Upx_zvQ"
   },
   "outputs": [],
   "source": [
    "import pandas as pd"
   ]
  },
  {
   "cell_type": "code",
   "execution_count": 5,
   "metadata": {},
   "outputs": [
    {
     "name": "stderr",
     "output_type": "stream",
     "text": [
      "C:\\Users\\rokas\\AppData\\Local\\Temp\\ipykernel_4120\\753109943.py:1: DtypeWarning: Columns (13) have mixed types. Specify dtype option on import or set low_memory=False.\n",
      "  raw_data = pd.read_csv('species.csv')\n"
     ]
    }
   ],
   "source": [
    "raw_data = pd.read_csv('species.csv')"
   ]
  },
  {
   "cell_type": "code",
   "execution_count": 15,
   "metadata": {},
   "outputs": [
    {
     "data": {
      "text/html": [
       "<div>\n",
       "<style scoped>\n",
       "    .dataframe tbody tr th:only-of-type {\n",
       "        vertical-align: middle;\n",
       "    }\n",
       "\n",
       "    .dataframe tbody tr th {\n",
       "        vertical-align: top;\n",
       "    }\n",
       "\n",
       "    .dataframe thead th {\n",
       "        text-align: right;\n",
       "    }\n",
       "</style>\n",
       "<table border=\"1\" class=\"dataframe\">\n",
       "  <thead>\n",
       "    <tr style=\"text-align: right;\">\n",
       "      <th></th>\n",
       "      <th>Category</th>\n",
       "      <th>Order</th>\n",
       "      <th>Family</th>\n",
       "      <th>Scientific Name</th>\n",
       "    </tr>\n",
       "  </thead>\n",
       "  <tbody>\n",
       "    <tr>\n",
       "      <th>63229</th>\n",
       "      <td>Vascular Plant</td>\n",
       "      <td>Pinales</td>\n",
       "      <td>Cupressaceae</td>\n",
       "      <td>Cupressus sempervirens</td>\n",
       "    </tr>\n",
       "    <tr>\n",
       "      <th>6696</th>\n",
       "      <td>Reptile</td>\n",
       "      <td>Squamata</td>\n",
       "      <td>Iguanidae</td>\n",
       "      <td>Anolis carolinensis</td>\n",
       "    </tr>\n",
       "    <tr>\n",
       "      <th>10423</th>\n",
       "      <td>Vascular Plant</td>\n",
       "      <td>Polypodiales</td>\n",
       "      <td>Woodsiaceae</td>\n",
       "      <td>Woodsia scopulina</td>\n",
       "    </tr>\n",
       "    <tr>\n",
       "      <th>102772</th>\n",
       "      <td>Vascular Plant</td>\n",
       "      <td>Lamiales</td>\n",
       "      <td>Orobanchaceae</td>\n",
       "      <td>Conopholis americana</td>\n",
       "    </tr>\n",
       "    <tr>\n",
       "      <th>35986</th>\n",
       "      <td>Vascular Plant</td>\n",
       "      <td>Ophioglossales</td>\n",
       "      <td>Ophioglossaceae</td>\n",
       "      <td>Botrychium multifidum</td>\n",
       "    </tr>\n",
       "    <tr>\n",
       "      <th>111353</th>\n",
       "      <td>Insect</td>\n",
       "      <td>Lepidoptera</td>\n",
       "      <td>Lycaenidae</td>\n",
       "      <td>Glaucopsyche lygdamus</td>\n",
       "    </tr>\n",
       "    <tr>\n",
       "      <th>24480</th>\n",
       "      <td>Vascular Plant</td>\n",
       "      <td>Vitales</td>\n",
       "      <td>Vitaceae</td>\n",
       "      <td>Parthenocissus quinquefolia</td>\n",
       "    </tr>\n",
       "    <tr>\n",
       "      <th>101294</th>\n",
       "      <td>Reptile</td>\n",
       "      <td>Testudines</td>\n",
       "      <td>Chelydridae</td>\n",
       "      <td>Chelydra serpentina</td>\n",
       "    </tr>\n",
       "    <tr>\n",
       "      <th>7497</th>\n",
       "      <td>Fish</td>\n",
       "      <td>Squaliformes</td>\n",
       "      <td>Dalatiidae</td>\n",
       "      <td>Isistius brasiliensis</td>\n",
       "    </tr>\n",
       "    <tr>\n",
       "      <th>56355</th>\n",
       "      <td>Vascular Plant</td>\n",
       "      <td>Fabales</td>\n",
       "      <td>Fabaceae</td>\n",
       "      <td>Senna surattensis</td>\n",
       "    </tr>\n",
       "  </tbody>\n",
       "</table>\n",
       "</div>"
      ],
      "text/plain": [
       "              Category           Order           Family  \\\n",
       "63229   Vascular Plant         Pinales     Cupressaceae   \n",
       "6696           Reptile        Squamata        Iguanidae   \n",
       "10423   Vascular Plant    Polypodiales      Woodsiaceae   \n",
       "102772  Vascular Plant        Lamiales    Orobanchaceae   \n",
       "35986   Vascular Plant  Ophioglossales  Ophioglossaceae   \n",
       "111353          Insect     Lepidoptera       Lycaenidae   \n",
       "24480   Vascular Plant         Vitales         Vitaceae   \n",
       "101294         Reptile      Testudines      Chelydridae   \n",
       "7497              Fish    Squaliformes       Dalatiidae   \n",
       "56355   Vascular Plant         Fabales         Fabaceae   \n",
       "\n",
       "                    Scientific Name  \n",
       "63229        Cupressus sempervirens  \n",
       "6696            Anolis carolinensis  \n",
       "10423             Woodsia scopulina  \n",
       "102772         Conopholis americana  \n",
       "35986         Botrychium multifidum  \n",
       "111353        Glaucopsyche lygdamus  \n",
       "24480   Parthenocissus quinquefolia  \n",
       "101294          Chelydra serpentina  \n",
       "7497          Isistius brasiliensis  \n",
       "56355             Senna surattensis  "
      ]
     },
     "execution_count": 15,
     "metadata": {},
     "output_type": "execute_result"
    }
   ],
   "source": [
    "cols = [\"Category\", \"Order\", \"Family\", \"Scientific Name\"]\n",
    "raw_data.sample(10)[cols]"
   ]
  },
  {
   "cell_type": "markdown",
   "metadata": {
    "id": "XCi0743pBbzx"
   },
   "source": [
    "# Pandas data types\n",
    "\n",
    "Each column of a DataFrame has a data type, so all values of that column have this data type. You can change data types to automatically change values:"
   ]
  },
  {
   "cell_type": "code",
   "execution_count": 16,
   "metadata": {
    "colab": {
     "base_uri": "https://localhost:8080/"
    },
    "executionInfo": {
     "elapsed": 5,
     "status": "ok",
     "timestamp": 1728455381739,
     "user": {
      "displayName": "Taisija Demcenko",
      "userId": "08999609198889042672"
     },
     "user_tz": -180
    },
    "id": "nwq4bDf3AoqF",
    "outputId": "22a59510-5614-4f96-9e13-b3c32282142c"
   },
   "outputs": [
    {
     "name": "stdout",
     "output_type": "stream",
     "text": [
      "Dataframe has one column with values of type: int64\n",
      "Column values: [0 0 1 1 1 0 1]\n",
      "\n",
      "By changing column dtype to bool, it got dtype: bool\n",
      "Column values: [False False  True  True  True False  True]\n",
      "\n",
      "By changing column dtype to float, it got dtype: float64\n",
      "Column values: [0. 0. 1. 1. 1. 0. 1.]\n",
      "\n",
      "By changing column dtype to str, it got dtype: object\n",
      "Column values: ['0' '0' '1' '1' '1' '0' '1']\n",
      "\n",
      "By directly changing one value to str, the column got dtype: object\n",
      "Column values: ['changed' 0 1 1 1 0 1]\n",
      "\n"
     ]
    },
    {
     "name": "stderr",
     "output_type": "stream",
     "text": [
      "C:\\Users\\rokas\\AppData\\Local\\Temp\\ipykernel_4120\\2938539367.py:22: FutureWarning: Setting an item of incompatible dtype is deprecated and will raise an error in a future version of pandas. Value 'changed' has dtype incompatible with int64, please explicitly cast to a compatible dtype first.\n",
      "  df_with_ints.loc[0, 'values_changed'] = 'changed'\n"
     ]
    }
   ],
   "source": [
    "df_with_ints = pd.DataFrame([0, 0, 1, 1, 1, 0, 1], columns=['values'])\n",
    "print(f'Dataframe has one column with values of type: {df_with_ints[\"values\"].dtype}')\n",
    "print(f'Column values: {df_with_ints[\"values\"].values}\\n')\n",
    "\n",
    "# using astype()\n",
    "\n",
    "df_with_ints['values_bool'] = df_with_ints['values'].astype(bool)\n",
    "print(f'By changing column dtype to bool, it got dtype: {df_with_ints[\"values_bool\"].dtype}')\n",
    "print(f'Column values: {df_with_ints[\"values_bool\"].values}\\n')\n",
    "\n",
    "df_with_ints['values_float'] = df_with_ints['values'].astype(float)\n",
    "print(f'By changing column dtype to float, it got dtype: {df_with_ints[\"values_float\"].dtype}')\n",
    "print(f'Column values: {df_with_ints[\"values_float\"].values}\\n')\n",
    "\n",
    "df_with_ints['values_str'] = df_with_ints['values'].astype(str)\n",
    "print(f'By changing column dtype to str, it got dtype: {df_with_ints[\"values_str\"].dtype}')\n",
    "print(f'Column values: {df_with_ints[\"values_str\"].values}\\n')\n",
    "\n",
    "# directly changing a value (will be deprecated soon)\n",
    "\n",
    "df_with_ints['values_changed'] = df_with_ints['values'].copy()\n",
    "df_with_ints.loc[0, 'values_changed'] = 'changed'\n",
    "print(f'By directly changing one value to str, the column got dtype: {df_with_ints[\"values_changed\"].dtype}')\n",
    "print(f'Column values: {df_with_ints[\"values_changed\"].values}\\n')"
   ]
  },
  {
   "cell_type": "markdown",
   "metadata": {
    "id": "TrQ6oWEAKcdy"
   },
   "source": [
    "Same as for Numpy arrays, one value will affect the whole column:"
   ]
  },
  {
   "cell_type": "code",
   "execution_count": 17,
   "metadata": {
    "colab": {
     "base_uri": "https://localhost:8080/",
     "height": 198
    },
    "executionInfo": {
     "elapsed": 2625,
     "status": "ok",
     "timestamp": 1728455411908,
     "user": {
      "displayName": "Taisija Demcenko",
      "userId": "08999609198889042672"
     },
     "user_tz": -180
    },
    "id": "WTFu-1tpKsIY",
    "outputId": "d1eb2f4f-f6a9-465d-d4ff-ceb36117108a"
   },
   "outputs": [
    {
     "name": "stdout",
     "output_type": "stream",
     "text": [
      "first_col      int64\n",
      "second_col     int64\n",
      "third_col     object\n",
      "dtype: object\n"
     ]
    },
    {
     "data": {
      "text/html": [
       "<div>\n",
       "<style scoped>\n",
       "    .dataframe tbody tr th:only-of-type {\n",
       "        vertical-align: middle;\n",
       "    }\n",
       "\n",
       "    .dataframe tbody tr th {\n",
       "        vertical-align: top;\n",
       "    }\n",
       "\n",
       "    .dataframe thead th {\n",
       "        text-align: right;\n",
       "    }\n",
       "</style>\n",
       "<table border=\"1\" class=\"dataframe\">\n",
       "  <thead>\n",
       "    <tr style=\"text-align: right;\">\n",
       "      <th></th>\n",
       "      <th>first_col</th>\n",
       "      <th>second_col</th>\n",
       "      <th>third_col</th>\n",
       "    </tr>\n",
       "  </thead>\n",
       "  <tbody>\n",
       "    <tr>\n",
       "      <th>0</th>\n",
       "      <td>1</td>\n",
       "      <td>2</td>\n",
       "      <td>3</td>\n",
       "    </tr>\n",
       "    <tr>\n",
       "      <th>1</th>\n",
       "      <td>1</td>\n",
       "      <td>2</td>\n",
       "      <td>hello</td>\n",
       "    </tr>\n",
       "  </tbody>\n",
       "</table>\n",
       "</div>"
      ],
      "text/plain": [
       "   first_col  second_col third_col\n",
       "0          1           2         3\n",
       "1          1           2     hello"
      ]
     },
     "execution_count": 17,
     "metadata": {},
     "output_type": "execute_result"
    }
   ],
   "source": [
    "with open('test.csv', 'w') as f:\n",
    "  f.writelines([\"first_col,second_col,third_col\\n\", \"1,2,3\\n\", \"1,2,hello\"])\n",
    "\n",
    "df = pd.read_csv('test.csv')\n",
    "print(df.dtypes)\n",
    "df"
   ]
  },
  {
   "cell_type": "code",
   "execution_count": 18,
   "metadata": {},
   "outputs": [
    {
     "data": {
      "text/plain": [
       "array(['3', 'hello'], dtype=object)"
      ]
     },
     "execution_count": 18,
     "metadata": {},
     "output_type": "execute_result"
    }
   ],
   "source": [
    "df['third_col'].unique()"
   ]
  },
  {
   "cell_type": "markdown",
   "metadata": {
    "id": "j-KaowsALzaV"
   },
   "source": [
    "If some data types of a loaded DataFrame are not expected, the `unique()` function is useful to see all unique values of a column and understand which one might have affected the data type."
   ]
  },
  {
   "cell_type": "markdown",
   "metadata": {
    "id": "lwnq-dyuDqr1"
   },
   "source": [
    "## Exercises\n",
    "\n",
    "1. Check data types of each column in the loaded dataframe.\n",
    "2. There is a column called \"Unnamed: 13\". What is inside this column? Print out all its unique values.\n",
    "3. What other column has the same values as this one? Using a FOR loop, print out unique values for each column.\n",
    "4. Some columns have a lot of unique values. For each column, print only 5 most commonly repeated values together with their counts, using `value_counts()`.\n",
    "5. It seems that some values from the \"Conservation status\" column leaked into the newly created \"Unnamed: 13\" column. Count how many non-empty values are in \"Unnamed: 13\".\n",
    "6. Print out only those rows which have non-empty values in \"Unnamed: 13\". Try to understand what happenned - how these rows can be repaired so the values are relevant to columns?\n",
    "7. Save indices of these rows into a new variable.\n",
    "8. Load the same file without Pandas, by using `open()` and `readlines()` commands, then print out the same problematic rows only using the saved indices. Do you get the same rows?\n",
    "9. Print out problematic rows using Species ID instead to ensure that the rows correspond to the ones found before."
   ]
  },
  {
   "cell_type": "code",
   "execution_count": 22,
   "metadata": {
    "id": "12BI38d2Dl15"
   },
   "outputs": [
    {
     "data": {
      "text/plain": [
       "array([nan, 'Endangered', 'Threatened', 'Species of Concern'],\n",
       "      dtype=object)"
      ]
     },
     "execution_count": 22,
     "metadata": {},
     "output_type": "execute_result"
    }
   ],
   "source": [
    "raw_data['Unnamed: 13'].unique()"
   ]
  },
  {
   "cell_type": "code",
   "execution_count": 31,
   "metadata": {},
   "outputs": [
    {
     "data": {
      "text/plain": [
       "Unnamed: 13\n",
       "Threatened            2\n",
       "Species of Concern    2\n",
       "Endangered            1\n",
       "Name: count, dtype: int64"
      ]
     },
     "execution_count": 31,
     "metadata": {},
     "output_type": "execute_result"
    }
   ],
   "source": [
    "raw_data['Unnamed: 13'].value_counts()"
   ]
  },
  {
   "cell_type": "code",
   "execution_count": 51,
   "metadata": {},
   "outputs": [
    {
     "data": {
      "text/plain": [
       "0         False\n",
       "1         False\n",
       "2         False\n",
       "3         False\n",
       "4         False\n",
       "          ...  \n",
       "119243    False\n",
       "119244    False\n",
       "119245    False\n",
       "119246    False\n",
       "119247    False\n",
       "Name: Unnamed: 13, Length: 119248, dtype: bool"
      ]
     },
     "execution_count": 51,
     "metadata": {},
     "output_type": "execute_result"
    }
   ],
   "source": [
    "missing_filter = raw_data['Unnamed: 13'].isna()\n",
    "~missing_filter"
   ]
  },
  {
   "cell_type": "code",
   "execution_count": 54,
   "metadata": {},
   "outputs": [
    {
     "data": {
      "text/plain": [
       "Index([6441, 31786, 31826, 44733, 44944], dtype='int64')"
      ]
     },
     "execution_count": 54,
     "metadata": {},
     "output_type": "execute_result"
    }
   ],
   "source": [
    "missing_ind = raw_data[~missing_filter].index\n",
    "missing_ind"
   ]
  },
  {
   "cell_type": "code",
   "execution_count": 57,
   "metadata": {},
   "outputs": [
    {
     "data": {
      "text/plain": [
       "6441      True\n",
       "31786    False\n",
       "31826    False\n",
       "44733    False\n",
       "44944     True\n",
       "Name: Conservation Status, dtype: bool"
      ]
     },
     "execution_count": 57,
     "metadata": {},
     "output_type": "execute_result"
    }
   ],
   "source": [
    "missing_filter_12 = raw_data.loc[missing_ind,'Conservation Status'].isna()\n",
    "missing_filter_12"
   ]
  },
  {
   "cell_type": "code",
   "execution_count": 59,
   "metadata": {},
   "outputs": [
    {
     "data": {
      "text/html": [
       "<div>\n",
       "<style scoped>\n",
       "    .dataframe tbody tr th:only-of-type {\n",
       "        vertical-align: middle;\n",
       "    }\n",
       "\n",
       "    .dataframe tbody tr th {\n",
       "        vertical-align: top;\n",
       "    }\n",
       "\n",
       "    .dataframe thead th {\n",
       "        text-align: right;\n",
       "    }\n",
       "</style>\n",
       "<table border=\"1\" class=\"dataframe\">\n",
       "  <thead>\n",
       "    <tr style=\"text-align: right;\">\n",
       "      <th></th>\n",
       "      <th>Species ID</th>\n",
       "      <th>Park Name</th>\n",
       "      <th>Category</th>\n",
       "      <th>Order</th>\n",
       "      <th>Family</th>\n",
       "      <th>Scientific Name</th>\n",
       "      <th>Common Names</th>\n",
       "      <th>Record Status</th>\n",
       "      <th>Occurrence</th>\n",
       "      <th>Nativeness</th>\n",
       "      <th>Abundance</th>\n",
       "      <th>Seasonality</th>\n",
       "      <th>Conservation Status</th>\n",
       "      <th>Unnamed: 13</th>\n",
       "    </tr>\n",
       "  </thead>\n",
       "  <tbody>\n",
       "    <tr>\n",
       "      <th>6441</th>\n",
       "      <td>BISC-1026</td>\n",
       "      <td>Biscayne National Park</td>\n",
       "      <td>Mammal</td>\n",
       "      <td>Sirenia</td>\n",
       "      <td>Trichechidae</td>\n",
       "      <td>Trichechus manatus</td>\n",
       "      <td>Manatee</td>\n",
       "      <td>Manati</td>\n",
       "      <td>Approved</td>\n",
       "      <td>Present</td>\n",
       "      <td>Unknown</td>\n",
       "      <td>Unknown</td>\n",
       "      <td>NaN</td>\n",
       "      <td>Endangered</td>\n",
       "    </tr>\n",
       "    <tr>\n",
       "      <th>44944</th>\n",
       "      <td>GRSA-1347</td>\n",
       "      <td>Great Sand Dunes National Park and Preserve</td>\n",
       "      <td>Vascular Plant</td>\n",
       "      <td>Asparagales</td>\n",
       "      <td>Iridaceae</td>\n",
       "      <td>Iris missouriensis</td>\n",
       "      <td>Blue Flag</td>\n",
       "      <td>Wild Iris</td>\n",
       "      <td>Approved</td>\n",
       "      <td>Present</td>\n",
       "      <td>Native</td>\n",
       "      <td>Rare</td>\n",
       "      <td>NaN</td>\n",
       "      <td>Species of Concern</td>\n",
       "    </tr>\n",
       "  </tbody>\n",
       "</table>\n",
       "</div>"
      ],
      "text/plain": [
       "      Species ID                                    Park Name        Category  \\\n",
       "6441   BISC-1026                       Biscayne National Park          Mammal   \n",
       "44944  GRSA-1347  Great Sand Dunes National Park and Preserve  Vascular Plant   \n",
       "\n",
       "             Order        Family     Scientific Name Common Names  \\\n",
       "6441       Sirenia  Trichechidae  Trichechus manatus      Manatee   \n",
       "44944  Asparagales     Iridaceae  Iris missouriensis    Blue Flag   \n",
       "\n",
       "      Record Status Occurrence Nativeness Abundance Seasonality  \\\n",
       "6441         Manati   Approved    Present   Unknown     Unknown   \n",
       "44944     Wild Iris   Approved    Present    Native        Rare   \n",
       "\n",
       "      Conservation Status         Unnamed: 13  \n",
       "6441                  NaN          Endangered  \n",
       "44944                 NaN  Species of Concern  "
      ]
     },
     "execution_count": 59,
     "metadata": {},
     "output_type": "execute_result"
    }
   ],
   "source": [
    "raw_data[~missing_filter][missing_filter_12] #randa, kur 13 stulpely netruksta, o 12 truksta"
   ]
  },
  {
   "cell_type": "code",
   "execution_count": 63,
   "metadata": {},
   "outputs": [],
   "source": [
    "raw_data.loc[~missing_filter & missing_filter_12, 'Conservation Status'] = raw_data[~missing_filter][missing_filter_12]['Unnamed: 13']"
   ]
  },
  {
   "cell_type": "code",
   "execution_count": 66,
   "metadata": {},
   "outputs": [],
   "source": [
    "raw_data.drop('Unnamed: 13', axis = 1, inplace = True)"
   ]
  },
  {
   "cell_type": "code",
   "execution_count": 67,
   "metadata": {},
   "outputs": [
    {
     "data": {
      "text/html": [
       "<div>\n",
       "<style scoped>\n",
       "    .dataframe tbody tr th:only-of-type {\n",
       "        vertical-align: middle;\n",
       "    }\n",
       "\n",
       "    .dataframe tbody tr th {\n",
       "        vertical-align: top;\n",
       "    }\n",
       "\n",
       "    .dataframe thead th {\n",
       "        text-align: right;\n",
       "    }\n",
       "</style>\n",
       "<table border=\"1\" class=\"dataframe\">\n",
       "  <thead>\n",
       "    <tr style=\"text-align: right;\">\n",
       "      <th></th>\n",
       "      <th>Species ID</th>\n",
       "      <th>Park Name</th>\n",
       "      <th>Category</th>\n",
       "      <th>Order</th>\n",
       "      <th>Family</th>\n",
       "      <th>Scientific Name</th>\n",
       "      <th>Common Names</th>\n",
       "      <th>Record Status</th>\n",
       "      <th>Occurrence</th>\n",
       "      <th>Nativeness</th>\n",
       "      <th>Abundance</th>\n",
       "      <th>Seasonality</th>\n",
       "      <th>Conservation Status</th>\n",
       "    </tr>\n",
       "  </thead>\n",
       "  <tbody>\n",
       "    <tr>\n",
       "      <th>0</th>\n",
       "      <td>ACAD-1000</td>\n",
       "      <td>Acadia National Park</td>\n",
       "      <td>Mammal</td>\n",
       "      <td>Artiodactyla</td>\n",
       "      <td>Cervidae</td>\n",
       "      <td>Alces alces</td>\n",
       "      <td>Moose</td>\n",
       "      <td>Approved</td>\n",
       "      <td>Present</td>\n",
       "      <td>Native</td>\n",
       "      <td>Rare</td>\n",
       "      <td>Resident</td>\n",
       "      <td>NaN</td>\n",
       "    </tr>\n",
       "    <tr>\n",
       "      <th>1</th>\n",
       "      <td>ACAD-1001</td>\n",
       "      <td>Acadia National Park</td>\n",
       "      <td>Mammal</td>\n",
       "      <td>Artiodactyla</td>\n",
       "      <td>Cervidae</td>\n",
       "      <td>Odocoileus virginianus</td>\n",
       "      <td>Northern White-Tailed Deer, Virginia Deer, Whi...</td>\n",
       "      <td>Approved</td>\n",
       "      <td>Present</td>\n",
       "      <td>Native</td>\n",
       "      <td>Abundant</td>\n",
       "      <td>NaN</td>\n",
       "      <td>NaN</td>\n",
       "    </tr>\n",
       "    <tr>\n",
       "      <th>2</th>\n",
       "      <td>ACAD-1002</td>\n",
       "      <td>Acadia National Park</td>\n",
       "      <td>Mammal</td>\n",
       "      <td>Carnivora</td>\n",
       "      <td>Canidae</td>\n",
       "      <td>Canis latrans</td>\n",
       "      <td>Coyote, Eastern Coyote</td>\n",
       "      <td>Approved</td>\n",
       "      <td>Present</td>\n",
       "      <td>Not Native</td>\n",
       "      <td>Common</td>\n",
       "      <td>NaN</td>\n",
       "      <td>Species of Concern</td>\n",
       "    </tr>\n",
       "    <tr>\n",
       "      <th>3</th>\n",
       "      <td>ACAD-1003</td>\n",
       "      <td>Acadia National Park</td>\n",
       "      <td>Mammal</td>\n",
       "      <td>Carnivora</td>\n",
       "      <td>Canidae</td>\n",
       "      <td>Canis lupus</td>\n",
       "      <td>Eastern Timber Wolf, Gray Wolf, Timber Wolf</td>\n",
       "      <td>Approved</td>\n",
       "      <td>Not Confirmed</td>\n",
       "      <td>Native</td>\n",
       "      <td>NaN</td>\n",
       "      <td>NaN</td>\n",
       "      <td>Endangered</td>\n",
       "    </tr>\n",
       "    <tr>\n",
       "      <th>4</th>\n",
       "      <td>ACAD-1004</td>\n",
       "      <td>Acadia National Park</td>\n",
       "      <td>Mammal</td>\n",
       "      <td>Carnivora</td>\n",
       "      <td>Canidae</td>\n",
       "      <td>Vulpes vulpes</td>\n",
       "      <td>Black Fox, Cross Fox, Eastern Red Fox, Fox, Re...</td>\n",
       "      <td>Approved</td>\n",
       "      <td>Present</td>\n",
       "      <td>Unknown</td>\n",
       "      <td>Common</td>\n",
       "      <td>Breeder</td>\n",
       "      <td>NaN</td>\n",
       "    </tr>\n",
       "  </tbody>\n",
       "</table>\n",
       "</div>"
      ],
      "text/plain": [
       "  Species ID             Park Name Category         Order    Family  \\\n",
       "0  ACAD-1000  Acadia National Park   Mammal  Artiodactyla  Cervidae   \n",
       "1  ACAD-1001  Acadia National Park   Mammal  Artiodactyla  Cervidae   \n",
       "2  ACAD-1002  Acadia National Park   Mammal     Carnivora   Canidae   \n",
       "3  ACAD-1003  Acadia National Park   Mammal     Carnivora   Canidae   \n",
       "4  ACAD-1004  Acadia National Park   Mammal     Carnivora   Canidae   \n",
       "\n",
       "          Scientific Name                                       Common Names  \\\n",
       "0             Alces alces                                              Moose   \n",
       "1  Odocoileus virginianus  Northern White-Tailed Deer, Virginia Deer, Whi...   \n",
       "2           Canis latrans                             Coyote, Eastern Coyote   \n",
       "3             Canis lupus        Eastern Timber Wolf, Gray Wolf, Timber Wolf   \n",
       "4           Vulpes vulpes  Black Fox, Cross Fox, Eastern Red Fox, Fox, Re...   \n",
       "\n",
       "  Record Status     Occurrence  Nativeness Abundance Seasonality  \\\n",
       "0      Approved        Present      Native      Rare    Resident   \n",
       "1      Approved        Present      Native  Abundant         NaN   \n",
       "2      Approved        Present  Not Native    Common         NaN   \n",
       "3      Approved  Not Confirmed      Native       NaN         NaN   \n",
       "4      Approved        Present     Unknown    Common     Breeder   \n",
       "\n",
       "  Conservation Status  \n",
       "0                 NaN  \n",
       "1                 NaN  \n",
       "2  Species of Concern  \n",
       "3          Endangered  \n",
       "4                 NaN  "
      ]
     },
     "execution_count": 67,
     "metadata": {},
     "output_type": "execute_result"
    }
   ],
   "source": [
    "raw_data.head()"
   ]
  },
  {
   "cell_type": "code",
   "execution_count": null,
   "metadata": {},
   "outputs": [],
   "source": []
  },
  {
   "cell_type": "code",
   "execution_count": 72,
   "metadata": {},
   "outputs": [],
   "source": [
    "changed_rows = ~missing_filter&missing_filter_12\n",
    "changed_index = raw_data.loc[changed_rows].index"
   ]
  },
  {
   "cell_type": "code",
   "execution_count": 33,
   "metadata": {},
   "outputs": [],
   "source": [
    "# for col in raw_data.columns:\n",
    "#     print(raw_data[col].value_counts()[:5])"
   ]
  },
  {
   "cell_type": "code",
   "execution_count": 75,
   "metadata": {},
   "outputs": [],
   "source": [
    "with open('species.csv', 'r', encoding = 'utf-8') as file:\n",
    "    list_of_data = []\n",
    "    for line in file:\n",
    "        list_of_data.append(line)"
   ]
  },
  {
   "cell_type": "code",
   "execution_count": 80,
   "metadata": {},
   "outputs": [
    {
     "name": "stdout",
     "output_type": "stream",
     "text": [
      "6441 BISC-1025,Biscayne National Park,Mammal,Rodentia,Sciuridae,Sciurus carolinensis,Eastern Gray Squirrel,Approved,Present,Unknown,Unknown,,,\n",
      "\n",
      "44944 GRSA-1335,Great Sand Dunes National Park and Preserve,Vascular Plant,Apiales,Apiaceae,Heracleum maximum,\"Common Cowparsnip, Cow Parsnip, Cowparsnip\",Approved,Present,Native,Unknown,,,\n",
      "\n"
     ]
    }
   ],
   "source": [
    "for index in changed_index.tolist():\n",
    "    print(index, list_of_data[index])"
   ]
  },
  {
   "cell_type": "code",
   "execution_count": 81,
   "metadata": {},
   "outputs": [
    {
     "data": {
      "text/html": [
       "<div>\n",
       "<style scoped>\n",
       "    .dataframe tbody tr th:only-of-type {\n",
       "        vertical-align: middle;\n",
       "    }\n",
       "\n",
       "    .dataframe tbody tr th {\n",
       "        vertical-align: top;\n",
       "    }\n",
       "\n",
       "    .dataframe thead th {\n",
       "        text-align: right;\n",
       "    }\n",
       "</style>\n",
       "<table border=\"1\" class=\"dataframe\">\n",
       "  <thead>\n",
       "    <tr style=\"text-align: right;\">\n",
       "      <th></th>\n",
       "      <th>Species ID</th>\n",
       "      <th>Park Name</th>\n",
       "      <th>Category</th>\n",
       "      <th>Order</th>\n",
       "      <th>Family</th>\n",
       "      <th>Scientific Name</th>\n",
       "      <th>Common Names</th>\n",
       "      <th>Record Status</th>\n",
       "      <th>Occurrence</th>\n",
       "      <th>Nativeness</th>\n",
       "      <th>Abundance</th>\n",
       "      <th>Seasonality</th>\n",
       "      <th>Conservation Status</th>\n",
       "    </tr>\n",
       "  </thead>\n",
       "  <tbody>\n",
       "    <tr>\n",
       "      <th>6441</th>\n",
       "      <td>BISC-1026</td>\n",
       "      <td>Biscayne National Park</td>\n",
       "      <td>Mammal</td>\n",
       "      <td>Sirenia</td>\n",
       "      <td>Trichechidae</td>\n",
       "      <td>Trichechus manatus</td>\n",
       "      <td>Manatee</td>\n",
       "      <td>Manati</td>\n",
       "      <td>Approved</td>\n",
       "      <td>Present</td>\n",
       "      <td>Unknown</td>\n",
       "      <td>Unknown</td>\n",
       "      <td>Endangered</td>\n",
       "    </tr>\n",
       "    <tr>\n",
       "      <th>44944</th>\n",
       "      <td>GRSA-1347</td>\n",
       "      <td>Great Sand Dunes National Park and Preserve</td>\n",
       "      <td>Vascular Plant</td>\n",
       "      <td>Asparagales</td>\n",
       "      <td>Iridaceae</td>\n",
       "      <td>Iris missouriensis</td>\n",
       "      <td>Blue Flag</td>\n",
       "      <td>Wild Iris</td>\n",
       "      <td>Approved</td>\n",
       "      <td>Present</td>\n",
       "      <td>Native</td>\n",
       "      <td>Rare</td>\n",
       "      <td>Species of Concern</td>\n",
       "    </tr>\n",
       "  </tbody>\n",
       "</table>\n",
       "</div>"
      ],
      "text/plain": [
       "      Species ID                                    Park Name        Category  \\\n",
       "6441   BISC-1026                       Biscayne National Park          Mammal   \n",
       "44944  GRSA-1347  Great Sand Dunes National Park and Preserve  Vascular Plant   \n",
       "\n",
       "             Order        Family     Scientific Name Common Names  \\\n",
       "6441       Sirenia  Trichechidae  Trichechus manatus      Manatee   \n",
       "44944  Asparagales     Iridaceae  Iris missouriensis    Blue Flag   \n",
       "\n",
       "      Record Status Occurrence Nativeness Abundance Seasonality  \\\n",
       "6441         Manati   Approved    Present   Unknown     Unknown   \n",
       "44944     Wild Iris   Approved    Present    Native        Rare   \n",
       "\n",
       "      Conservation Status  \n",
       "6441           Endangered  \n",
       "44944  Species of Concern  "
      ]
     },
     "execution_count": 81,
     "metadata": {},
     "output_type": "execute_result"
    }
   ],
   "source": [
    "raw_data.loc[~missing_filter & missing_filter_12]"
   ]
  },
  {
   "cell_type": "code",
   "execution_count": null,
   "metadata": {},
   "outputs": [],
   "source": [
    "raw_data.loc[~missing_filter & missing_filter_12"
   ]
  },
  {
   "cell_type": "markdown",
   "metadata": {
    "id": "6_1R6L8DsF_g"
   },
   "source": [
    "Missing values can be handled in different ways, based on what is known about the data, their amount, importance, etc.. There is no single way to decide what to do with missing values. Pandas suggests two methods: `.dropna()`, which drops missing values, and `.fillna()`, which fills all missing values with a specified one or method. Let's try to replicate this in numpy:\n",
    "1. Convert the dataframe loaded before to a Numpy array\n",
    "2. Find all missing values in every column - how many are there?\n",
    "3. Pick a strategy for handling the missing values in every column based on what you know about it. For the sake of this excercise, your choices are: drop rows, drop columns, fill every value with the previous one, or fill every value with the most common value."
   ]
  },
  {
   "cell_type": "code",
   "execution_count": 82,
   "metadata": {
    "id": "H0UwvcS59P3d"
   },
   "outputs": [],
   "source": [
    "import numpy as np"
   ]
  },
  {
   "cell_type": "code",
   "execution_count": 85,
   "metadata": {},
   "outputs": [
    {
     "data": {
      "text/plain": [
       "array([[[1, 5, 9, 6],\n",
       "        [5, 9, 6, 5]],\n",
       "\n",
       "       [[1, 5, 9, 6],\n",
       "        [5, 9, 6, 5]]])"
      ]
     },
     "execution_count": 85,
     "metadata": {},
     "output_type": "execute_result"
    }
   ],
   "source": [
    "np.array([[[1, 5, 9, 6],[5, 9, 6, 5]],[[1, 5, 9, 6],[5, 9, 6, 5]]])"
   ]
  },
  {
   "cell_type": "code",
   "execution_count": 98,
   "metadata": {},
   "outputs": [
    {
     "data": {
      "text/plain": [
       "array([[ 0.,  0.,  0.,  0.,  0.,  0.,  0.,  0.,  0.,  0.],\n",
       "       [ 0.,  0.,  0.,  0.,  0.,  0.,  0.,  0.,  0.,  0.],\n",
       "       [ 0.,  0.,  0.,  0.,  0.,  0.,  0.,  0.,  0.,  0.],\n",
       "       [ 0.,  0.,  0.,  0.,  0.,  0.,  0.,  0.,  0.,  0.],\n",
       "       [ 0.,  0.,  0.,  0.,  0.,  0.,  0.,  0.,  0.,  0.],\n",
       "       [ 0.,  0.,  0.,  0.,  0.,  0.,  0.,  0., 15.,  0.],\n",
       "       [ 0.,  0.,  0.,  0.,  0.,  0.,  0.,  0.,  0.,  0.],\n",
       "       [ 0.,  0.,  0.,  0.,  0.,  0.,  0.,  0.,  0.,  0.],\n",
       "       [ 0.,  0.,  0.,  0.,  0.,  0.,  0.,  0.,  0.,  0.],\n",
       "       [ 0.,  0.,  0.,  0.,  0.,  0.,  0.,  0.,  0.,  0.]])"
      ]
     },
     "execution_count": 98,
     "metadata": {},
     "output_type": "execute_result"
    }
   ],
   "source": [
    "empty = np.zeros((10, 10))\n",
    "empty[5, 8] = 15\n",
    "empty"
   ]
  },
  {
   "cell_type": "code",
   "execution_count": 99,
   "metadata": {},
   "outputs": [
    {
     "data": {
      "text/plain": [
       "array([ 5.        ,  5.05050505,  5.1010101 ,  5.15151515,  5.2020202 ,\n",
       "        5.25252525,  5.3030303 ,  5.35353535,  5.4040404 ,  5.45454545,\n",
       "        5.50505051,  5.55555556,  5.60606061,  5.65656566,  5.70707071,\n",
       "        5.75757576,  5.80808081,  5.85858586,  5.90909091,  5.95959596,\n",
       "        6.01010101,  6.06060606,  6.11111111,  6.16161616,  6.21212121,\n",
       "        6.26262626,  6.31313131,  6.36363636,  6.41414141,  6.46464646,\n",
       "        6.51515152,  6.56565657,  6.61616162,  6.66666667,  6.71717172,\n",
       "        6.76767677,  6.81818182,  6.86868687,  6.91919192,  6.96969697,\n",
       "        7.02020202,  7.07070707,  7.12121212,  7.17171717,  7.22222222,\n",
       "        7.27272727,  7.32323232,  7.37373737,  7.42424242,  7.47474747,\n",
       "        7.52525253,  7.57575758,  7.62626263,  7.67676768,  7.72727273,\n",
       "        7.77777778,  7.82828283,  7.87878788,  7.92929293,  7.97979798,\n",
       "        8.03030303,  8.08080808,  8.13131313,  8.18181818,  8.23232323,\n",
       "        8.28282828,  8.33333333,  8.38383838,  8.43434343,  8.48484848,\n",
       "        8.53535354,  8.58585859,  8.63636364,  8.68686869,  8.73737374,\n",
       "        8.78787879,  8.83838384,  8.88888889,  8.93939394,  8.98989899,\n",
       "        9.04040404,  9.09090909,  9.14141414,  9.19191919,  9.24242424,\n",
       "        9.29292929,  9.34343434,  9.39393939,  9.44444444,  9.49494949,\n",
       "        9.54545455,  9.5959596 ,  9.64646465,  9.6969697 ,  9.74747475,\n",
       "        9.7979798 ,  9.84848485,  9.8989899 ,  9.94949495, 10.        ])"
      ]
     },
     "execution_count": 99,
     "metadata": {},
     "output_type": "execute_result"
    }
   ],
   "source": [
    "np.linspace(5, 10, 100)"
   ]
  }
 ],
 "metadata": {
  "colab": {
   "provenance": []
  },
  "kernelspec": {
   "display_name": "Python 3 (ipykernel)",
   "language": "python",
   "name": "python3"
  },
  "language_info": {
   "codemirror_mode": {
    "name": "ipython",
    "version": 3
   },
   "file_extension": ".py",
   "mimetype": "text/x-python",
   "name": "python",
   "nbconvert_exporter": "python",
   "pygments_lexer": "ipython3",
   "version": "3.12.4"
  }
 },
 "nbformat": 4,
 "nbformat_minor": 4
}
