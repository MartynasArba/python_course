{
 "cells": [
  {
   "cell_type": "code",
   "execution_count": 5,
   "id": "bb0b6bfc-5124-44e6-bf87-56ef13be8d3f",
   "metadata": {},
   "outputs": [],
   "source": [
    "dicts= {x:y for x, y in zip(range(3), range(3))}"
   ]
  },
  {
   "cell_type": "code",
   "execution_count": 7,
   "id": "099f7dbc-7593-4f50-ba1a-26816fc69fe6",
   "metadata": {},
   "outputs": [
    {
     "data": {
      "text/plain": [
       "dict_keys([0, 1, 2])"
      ]
     },
     "execution_count": 7,
     "metadata": {},
     "output_type": "execute_result"
    }
   ],
   "source": [
    "dicts.keys()"
   ]
  }
 ],
 "metadata": {
  "kernelspec": {
   "display_name": "Python 3 (ipykernel)",
   "language": "python",
   "name": "python3"
  },
  "language_info": {
   "codemirror_mode": {
    "name": "ipython",
    "version": 3
   },
   "file_extension": ".py",
   "mimetype": "text/x-python",
   "name": "python",
   "nbconvert_exporter": "python",
   "pygments_lexer": "ipython3",
   "version": "3.12.4"
  }
 },
 "nbformat": 4,
 "nbformat_minor": 5
}
