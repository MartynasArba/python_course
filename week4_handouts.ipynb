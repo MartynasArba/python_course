{
 "cells": [
  {
   "cell_type": "markdown",
   "metadata": {
    "id": "YM88gAs2NLEj"
   },
   "source": [
    "# Writing custom functions\n",
    "\n",
    "Functions are fundamental to programming. A function in Python has a **name** and **parameters**:\n",
    "\n",
    "```python\n",
    "function_name(param1, param2, ...)\n",
    "```\n",
    "\n",
    "Functions are **callable objects**, which means they can be called by providing **arguments** (parameter values) in round brackets. You could also just print out the object itself:"
   ]
  },
  {
   "cell_type": "code",
   "execution_count": 6,
   "metadata": {
    "id": "_Jk3eqgRORk5"
   },
   "outputs": [
    {
     "name": "stdout",
     "output_type": "stream",
     "text": [
      "Help on built-in function sorted in module builtins:\n",
      "\n",
      "sorted(iterable, /, *, key=None, reverse=False)\n",
      "    Return a new list containing all items from the iterable in ascending order.\n",
      "\n",
      "    A custom key function can be supplied to customize the sort order, and the\n",
      "    reverse flag can be set to request the result in descending order.\n",
      "\n"
     ]
    }
   ],
   "source": []
  },
  {
   "cell_type": "markdown",
   "metadata": {
    "id": "Eu445OHKHDO-"
   },
   "source": [
    "## Examples of Python in-built functions:\n",
    "\n",
    "With strictly one parameter:\n",
    "```python\n",
    "\",\".join([\"comma\", \"separated\", \"values\"])\n",
    "# output: \"comma,separated,values\"\n",
    "```\n",
    "\n",
    "With strictly two parameters:\n",
    "```python\n",
    "isinstance(5, int)  # output: True\n",
    "\n",
    "```\n",
    "\n",
    "With one required and one optional parameter (**note:** optional parameters always go after required ones!):\n",
    "```python\n",
    "sorted(list(\"hello\"))\n",
    "# output: ['e', 'h', 'l', 'l', 'o']\n",
    "sorted(list(\"hello\"), reverse=True)\n",
    "# output: ['o', 'l', 'l', 'h', 'e']\n",
    "```\n",
    "\n",
    "With two optional parameters:\n",
    "```python\n",
    "int(\"101010\")     # output: 101010\n",
    "int()             # output: 0\n",
    "int(\"101010\", 2)  # output: 42\n",
    "# use int() to convert non-decimal numbers to decimal!\n",
    "```\n",
    "\n",
    "With any number of parameters:\n",
    "```python\n",
    "print(\"1st param\", \"2nd param\", \"and\", \"many\", \"more\")\n",
    "print()  # prints an empty row\n",
    "```"
   ]
  },
  {
   "cell_type": "code",
   "execution_count": 8,
   "metadata": {},
   "outputs": [
    {
     "data": {
      "text/plain": [
       "337"
      ]
     },
     "execution_count": 8,
     "metadata": {},
     "output_type": "execute_result"
    }
   ],
   "source": [
    "int('101010001', 2)"
   ]
  },
  {
   "cell_type": "markdown",
   "metadata": {
    "id": "vHKabLNfNR4v"
   },
   "source": [
    "## Functions are objects\n",
    "\n",
    "The name of the function can be seen as a variable which stores the function as a value.\n",
    "\n",
    "- This is why you can assign a custom value to a function name, which will replace the function making it inaccesible:\n",
    "\n",
    "```python\n",
    "list = []\n",
    "list()\n",
    "```\n",
    "\n",
    "```\n",
    "TypeError                                 Traceback (most recent call last)\n",
    "\n",
    "<ipython-input-14-1178054a73db> in <cell line: 2>()\n",
    "      1 list = []\n",
    "----> 2 list()\n",
    "\n",
    "TypeError: 'list' object is not callable\n",
    "```\n",
    "\n",
    "Use `del list` to remove your custom value and restore the original function."
   ]
  },
  {
   "cell_type": "markdown",
   "metadata": {
    "id": "5NQ-HNYNNXr2"
   },
   "source": [
    "## ❔But what is the difference between `sorted([...])` and `[...].sort()`?\n",
    "\n",
    "The `sorted()` object is a standalone function, while `.sort()` is actually a *class method*. It's not required to know the difference between these two, and we won't write classes during this course. You can think of **classes as custom objects with their own dedicated functions**. In code, you'll see the keyword `class` which means a custom class is being defined.\n",
    "- The `int()` function actually *initializes* (creates) an object of class `int` (same for similar functions like `float()`, `list()` etc.)"
   ]
  },
  {
   "cell_type": "markdown",
   "metadata": {
    "id": "R9FyBDmHNxJ6"
   },
   "source": [
    "## Creating a custom function\n",
    "\n",
    "Use the `def` keyword to define a new function. In the example below, the function does not have any parameters and always returns a string \"completed!\":"
   ]
  },
  {
   "cell_type": "code",
   "execution_count": 12,
   "metadata": {
    "id": "CodNy9C-OCky"
   },
   "outputs": [
    {
     "name": "stdout",
     "output_type": "stream",
     "text": [
      "completed!\n"
     ]
    }
   ],
   "source": [
    "def my_first_function():\n",
    "  return \"completed!\"\n",
    "\n",
    "result = my_first_function()\n",
    "print(result)"
   ]
  },
  {
   "cell_type": "code",
   "execution_count": 16,
   "metadata": {},
   "outputs": [
    {
     "name": "stdout",
     "output_type": "stream",
     "text": [
      "hi\n",
      "None\n"
     ]
    }
   ],
   "source": [
    "def some_function():\n",
    "    print('hi')\n",
    "    return None\n",
    "\n",
    "var = some_function()\n",
    "print(var)"
   ]
  },
  {
   "cell_type": "markdown",
   "metadata": {
    "id": "Ru_nRDeVPMWl"
   },
   "source": [
    "A more useful example of a function would be the calculation of energy out of mass:\n",
    "- `mass` is a required parameter;\n",
    "- `c` is optional: in case the speed of light changes, we can provide a new value to the function:"
   ]
  },
  {
   "cell_type": "code",
   "execution_count": 17,
   "metadata": {
    "id": "I1Xe5a1bPLJo"
   },
   "outputs": [
    {
     "name": "stdout",
     "output_type": "stream",
     "text": [
      "Energy of a 250g object: 22468879468.42044\n",
      "Energy of a 250g object if light has the speed of sound: 0.02941225\n"
     ]
    }
   ],
   "source": [
    "def mass_energy_eq(mass, c = 299792458):\n",
    "    return mass * c ** 2 / 1000000   # return MJ instead of J\n",
    "\n",
    "energy = mass_energy_eq(0.25)\n",
    "print('Energy of a 250g object:', energy)\n",
    "\n",
    "energy_with_slow_light = mass_energy_eq(0.25, 343)\n",
    "print('Energy of a 250g object if light has the speed of sound:', energy_with_slow_light)"
   ]
  },
  {
   "cell_type": "markdown",
   "metadata": {
    "id": "IsWYJ9MERWS6"
   },
   "source": [
    "# Exercises\n",
    "\n",
    "1. Write a function with zero parameters which returns the length of your name.\n",
    "2. Write a function with one required parameter which returns the length of a given name.\n",
    "3. Write a function with one optional parameter which returns the length of a given name, and if none provided, then the length of your name.\n",
    "4. Write a function with one required parameter which returns lengths of each name in a provided **list**.\n",
    "5. Write a function with one required parameter which detects whether the provided value is a string or list, and returns the same output as in points 2 or 4, respectively."
   ]
  },
  {
   "cell_type": "code",
   "execution_count": 24,
   "metadata": {
    "id": "HdBNjAMnkAuo"
   },
   "outputs": [
    {
     "data": {
      "text/plain": [
       "4"
      ]
     },
     "execution_count": 24,
     "metadata": {},
     "output_type": "execute_result"
    }
   ],
   "source": [
    "#2\n",
    "def namelength(name = 'Martynas'):\n",
    "    # name = 'Martynas'\n",
    "    name_len = len(name)\n",
    "    return name_len\n",
    "\n",
    "namelength('John')"
   ]
  },
  {
   "cell_type": "code",
   "execution_count": 27,
   "metadata": {},
   "outputs": [
    {
     "data": {
      "text/plain": [
       "[4]"
      ]
     },
     "execution_count": 27,
     "metadata": {},
     "output_type": "execute_result"
    }
   ],
   "source": [
    "def namelength(names):\n",
    "    name_lengths = []\n",
    "\n",
    "    for name in names:\n",
    "        name_length = len(name)\n",
    "        name_lengths.append(name_length)\n",
    "\n",
    "    return name_lengths\n",
    "\n",
    "namelength(['John'])"
   ]
  },
  {
   "cell_type": "code",
   "execution_count": 29,
   "metadata": {},
   "outputs": [
    {
     "data": {
      "text/plain": [
       "[4, 4]"
      ]
     },
     "execution_count": 29,
     "metadata": {},
     "output_type": "execute_result"
    }
   ],
   "source": [
    "def namelength(names):\n",
    "    return [len(name) for name in names]\n",
    "\n",
    "namelength(['John', 'Adam'])"
   ]
  },
  {
   "cell_type": "code",
   "execution_count": 31,
   "metadata": {},
   "outputs": [
    {
     "data": {
      "text/plain": [
       "True"
      ]
     },
     "execution_count": 31,
     "metadata": {},
     "output_type": "execute_result"
    }
   ],
   "source": [
    "isinstance('word', str)"
   ]
  },
  {
   "cell_type": "code",
   "execution_count": 39,
   "metadata": {},
   "outputs": [
    {
     "name": "stdout",
     "output_type": "stream",
     "text": [
      "Unsuported type encountered\n",
      "<class 'int'>\n"
     ]
    }
   ],
   "source": [
    "def namelength(names):\n",
    "    if isinstance(names, str):\n",
    "        name_len = len(names)\n",
    "        return name_len\n",
    "    elif isinstance(names, list):\n",
    "        return [len(name) for name in names]\n",
    "    else:\n",
    "        print('Unsuported type encountered')\n",
    "        print(type(names))\n",
    "        return None\n",
    "\n",
    "namelength(1)\n",
    "    "
   ]
  },
  {
   "cell_type": "markdown",
   "metadata": {
    "id": "l0M3SZ37S10Z"
   },
   "source": [
    "## Functions with any number of parameters\n",
    "\n",
    "There are special keywords `*args` and `**kwargs` (keyword args) which allow the function to take any number of arguments:"
   ]
  },
  {
   "cell_type": "code",
   "execution_count": 42,
   "metadata": {
    "id": "L1dmgOiRQLU5"
   },
   "outputs": [
    {
     "data": {
      "text/plain": [
       "[4, 9, 25, 49, 25, 10201]"
      ]
     },
     "execution_count": 42,
     "metadata": {},
     "output_type": "execute_result"
    }
   ],
   "source": [
    "def square_everything(*args):\n",
    "  result = []\n",
    "  for element in args:\n",
    "    result.append(element ** 2)\n",
    "  return result\n",
    "\n",
    "square_everything(2, 3, 5, 7, 5, 101)"
   ]
  },
  {
   "cell_type": "markdown",
   "metadata": {
    "id": "E44IiZ1dUs-y"
   },
   "source": [
    "You can use both `*args` and `**kwargs` at the same time:"
   ]
  },
  {
   "cell_type": "code",
   "execution_count": 44,
   "metadata": {
    "id": "FPY5Xn6IUwZj"
   },
   "outputs": [
    {
     "name": "stdout",
     "output_type": "stream",
     "text": [
      "Reaction velocities: [2.857142857142857, 5.0, 7.0588235294117645, 8.0]\n"
     ]
    }
   ],
   "source": [
    "def michaelis_menten_velocity(*args, **kwargs):\n",
    "    vmax = kwargs.get('vmax', 1.0)\n",
    "    km = kwargs.get('km', 1.0)\n",
    "    velocities = []\n",
    "\n",
    "    for substrate_conc in args:\n",
    "        velocity = (vmax * substrate_conc) / (km + substrate_conc)\n",
    "        velocities.append(velocity)\n",
    "\n",
    "    return velocities\n",
    "\n",
    "velocities = michaelis_menten_velocity(0.2, 0.5, 1.2, 2.0, vmax=10, km=0.5, extra = 150)\n",
    "print(f\"Reaction velocities: {velocities}\")"
   ]
  },
  {
   "cell_type": "markdown",
   "metadata": {
    "id": "euQosk3hT8e0"
   },
   "source": [
    "## Exercises\n",
    "\n",
    "1. Using `*args`, write a function which returns a list of given strings uppercased (use the `.uppercase()` function).\n",
    "  - E.g. `uppercase_all('word', 'another')` should return `['WORD', 'ANOTHER']`.\n",
    "\n",
    "1. Write the same function as in the previous point, but this time it should also ignore any non-string arguments instead of rising an error. **Write two versions of this function:** one using the `continue` keyword, and another using `pass`.\n",
    "\n",
    "1. Using `**kwargs`, write a function which calculates the mass of a DNA molecule when base counts are provided. Unknown bases can be ignored. If no arguments were provided, return zero. Use this dictionary of base weights:\n",
    "```python\n",
    "dna_base_weights = {\n",
    "    'A': 313.2,  # Adenine\n",
    "    'T': 304.2,  # Thymine\n",
    "    'G': 329.2,  # Guanine\n",
    "    'C': 289.2   # Cytosine\n",
    "}\n",
    "```\n",
    "  - ❓Where will you put this dictionary: inside the function, or outside it? What will be the difference?\n",
    "\n",
    "1. Write a function which will return food ingredients which are possible to make based on input ingredients:\n",
    "  - `flour` is required for all results. If not provided, the function should raise an error (`TypeError`);\n",
    "  - If `eggs` are provided, return pasta 🍝 as `(flour / 2) * (eggs / 3)`;\n",
    "  - If `eggs` and `milk` are provided, return pancakes 🥞 as `flour * milk * egg`;\n",
    "  - If `water` and `yeast` are provided, return pizza 🍕 as `(flour / 2) * water * yeast`;\n",
    "  - If `water` and `oil` are provided, return tortilla 🫓 as `(flour / 2) * water * (oil * 4)`.\n",
    "  - Several results can be returned at the same time depending on the provided ingredients. So, for the return, **choose a collection which you thihk is more convenient**."
   ]
  },
  {
   "cell_type": "code",
   "execution_count": 68,
   "metadata": {},
   "outputs": [
    {
     "name": "stdout",
     "output_type": "stream",
     "text": [
      "flour found\n",
      "the things found\n"
     ]
    },
    {
     "data": {
      "text/plain": [
       "30"
      ]
     },
     "execution_count": 68,
     "metadata": {},
     "output_type": "execute_result"
    }
   ],
   "source": [
    "def get_recipes(**kwargs):\n",
    "    if 'flour' in kwargs.keys():\n",
    "        print('flour found')\n",
    "        # print('flour found!')\n",
    "        if 'eggs' in kwargs.keys() and 'milk' in kwargs.keys():\n",
    "            print('the things found')\n",
    "            pancakes = kwargs.get('flour') * kwargs.get('milk') * kwargs.get('eggs')\n",
    "            return pancakes\n",
    "        else:\n",
    "            print('else statement')\n",
    "            return None        \n",
    "    else:\n",
    "        raise TypeError('flour not found!')\n",
    "\n",
    "get_recipes(flour = 5, eggs = 2, milk = 3, bread = 5, chicken = 2)"
   ]
  },
  {
   "cell_type": "code",
   "execution_count": 60,
   "metadata": {},
   "outputs": [
    {
     "data": {
      "text/plain": [
       "1525.0"
      ]
     },
     "execution_count": 60,
     "metadata": {},
     "output_type": "execute_result"
    }
   ],
   "source": [
    "dna_base_weights = {\n",
    "    'A': 313.2,  # Adenine\n",
    "    'T': 304.2,  # Thymine\n",
    "    'G': 329.2,  # Guanine\n",
    "    'C': 289.2   # Cytosine\n",
    "}\n",
    "\n",
    "# 'A', 'T', 'G' ,'C' , 'C', 'R'\n",
    "\n",
    "def calculate_dna_weight(*args, **kwargs):\n",
    "    dna_mass = 0\n",
    "    weights = kwargs.get('weights')\n",
    "    for arg in args:\n",
    "        if arg in weights.keys():\n",
    "            dna_mass += weights.get(arg)\n",
    "\n",
    "    return dna_mass\n",
    "\n",
    "calculate_dna_weight('A', 'T', 'G' ,'C' , 'C', 'R', weights = dna_base_weights)    "
   ]
  },
  {
   "cell_type": "code",
   "execution_count": 56,
   "metadata": {},
   "outputs": [
    {
     "data": {
      "text/plain": [
       "['WORD', 'ANOTHER', 'THIRD']"
      ]
     },
     "execution_count": 56,
     "metadata": {},
     "output_type": "execute_result"
    }
   ],
   "source": [
    "def uppercase_all(*args):\n",
    "    converted = []\n",
    "    for arg in args:\n",
    "        if isinstance(arg, str):\n",
    "            converted.append(arg.upper())\n",
    "        else:\n",
    "            continue\n",
    "        print('some text')\n",
    "    return converted\n",
    "\n",
    "    # return [arg.upper() for arg in args if isinstance(arg, str)]\n",
    "    \n",
    "uppercase_all('word', 'another', 'third', 1)"
   ]
  },
  {
   "cell_type": "markdown",
   "metadata": {
    "id": "NL66emcpblC_"
   },
   "source": [
    "## Type hints\n",
    "\n",
    "Type hints improve readability of custom functions:\n",
    "\n",
    "```python\n",
    "def mass_energy_eq(mass: float, c: float = 299792458.0) -> float:\n",
    "    return mass * c ** 2 / 10000000\n",
    "```\n",
    "\n",
    "You can also indicate what type is expected inside a collection:\n",
    "\n",
    "```python\n",
    "def square_all_ints(ints: list[int]) -> list[int]:\n",
    "  return [x ** 2 for x in ints]\n",
    "\n",
    "def euclidean_distance(p1: tuple[float, float], p2: tuple[float, float]) -> float:\n",
    "  return ((p1[0] - p2[0]) ** 2 + (p1[1] - p2[1]) ** 2) ** 0.5\n",
    "```\n",
    "\n",
    "To allow several different types for the same parameter, use `Union`:\n",
    "\n",
    "```python\n",
    "from typing import Union\n",
    "\n",
    "def list_or_int(x: Union[list, int]) -> None:\n",
    "  if isinstance(x, list):\n",
    "    print('Received a list!')\n",
    "  elif isinstance(x, int):\n",
    "    print('Received an integer!')\n",
    "  else:\n",
    "    print('Received some other type')\n",
    "```\n",
    "\n",
    "Functions with optional output can use the `Optional` type hint:\n",
    "\n",
    "```python\n",
    "from typing import Optional\n",
    "\n",
    "def squared_int(x: int) -> Optional[int]:\n",
    "  if isinstance(x, int):\n",
    "    return x ** 2\n",
    "```"
   ]
  },
  {
   "cell_type": "markdown",
   "metadata": {
    "id": "iLO4bnZ4cCjQ"
   },
   "source": [
    "## Exercises\n",
    "\n",
    "Analyze written functions and add correct type hints to each:"
   ]
  },
  {
   "cell_type": "code",
   "execution_count": 75,
   "metadata": {
    "id": "g2MCrLLNdX_7"
   },
   "outputs": [],
   "source": [
    "# 1st function\n",
    "\n",
    "def greet_every_person(names_list: list):\n",
    "  for name in names_list:\n",
    "    print(f\"Hello {name}!\")\n"
   ]
  },
  {
   "cell_type": "code",
   "execution_count": 77,
   "metadata": {
    "id": "qHZUp-gBcB5I"
   },
   "outputs": [],
   "source": [
    "# 2nd function\n",
    "\n",
    "def euros_to_dollars(amount_euros: float, exchange_rate: float = 1.1):\n",
    "    return amount_euros * exchange_rate"
   ]
  },
  {
   "cell_type": "code",
   "execution_count": 82,
   "metadata": {
    "id": "9UgWlLYedn2v"
   },
   "outputs": [
    {
     "name": "stdout",
     "output_type": "stream",
     "text": [
      "Unsupported collection / not a collection!\n"
     ]
    }
   ],
   "source": [
    "# 3rd function\n",
    "from typing import Union, Optional\n",
    "\n",
    "def add_element_to_collection(element: Union[int, float, str], \\\n",
    "                              collection: Union[list, tuple, set, dict]) -> Optional[Union[list, tuple, set, dict]]:\n",
    "  if isinstance(collection, list): \n",
    "    # if type(collection) == list:\n",
    "    return collection + [element]\n",
    "  elif isinstance(collection, tuple):\n",
    "    return tuple(list(collection) + [element])\n",
    "  elif isinstance(collection, set):\n",
    "    return set(list(collection) + [element])\n",
    "  elif isinstance(collection, dict):\n",
    "    return dict(list(collection.items()) + [(element, None)])\n",
    "  else:\n",
    "    print('Unsupported collection / not a collection!')\n",
    "\n",
    "add_element_to_collection(1, 'some_string')"
   ]
  },
  {
   "cell_type": "markdown",
   "metadata": {
    "id": "hv9QiSqTgF11"
   },
   "source": [
    "## Saving custom function to modules\n",
    "\n",
    "You can write your custom functions in a separate .py file and then import it.\n",
    "- The .py file should be in the same directory as this Notebook!\n",
    "\n",
    "## Exercise\n",
    "\n",
    "Examine the usage of a custom function below, then write and save that function in a separate file so the cell below would work properly without raising any errors:"
   ]
  },
  {
   "cell_type": "code",
   "execution_count": 90,
   "metadata": {},
   "outputs": [
    {
     "data": {
      "text/plain": [
       "\u001b[1;31mSignature:\u001b[0m \u001b[0meuros_to_dollars\u001b[0m\u001b[1;33m(\u001b[0m\u001b[0mamount_euros\u001b[0m\u001b[1;33m:\u001b[0m \u001b[0mfloat\u001b[0m\u001b[1;33m,\u001b[0m \u001b[0mexchange_rate\u001b[0m\u001b[1;33m:\u001b[0m \u001b[0mfloat\u001b[0m \u001b[1;33m=\u001b[0m \u001b[1;36m1.1\u001b[0m\u001b[1;33m)\u001b[0m\u001b[1;33m\u001b[0m\u001b[1;33m\u001b[0m\u001b[0m\n",
       "\u001b[1;31mDocstring:\u001b[0m <no docstring>\n",
       "\u001b[1;31mFile:\u001b[0m      c:\\users\\rokas\\desktop\\pythoncourse\\functions.py\n",
       "\u001b[1;31mType:\u001b[0m      function"
      ]
     },
     "metadata": {},
     "output_type": "display_data"
    }
   ],
   "source": [
    "# del add_element_to_collection\n",
    "\n",
    "from functions import *\n",
    "#add_element_to_collection\n",
    "euros_to_dollars?"
   ]
  },
  {
   "cell_type": "code",
   "execution_count": null,
   "metadata": {
    "id": "GfSdKIYzfR_U"
   },
   "outputs": [],
   "source": [
    "from my_custom_functions import add_element_to_collection\n",
    "\n",
    "print(add_element_to_collection(5, [1, 2, 3, 4]))  # output: [1, 2, 3, 4, 5]\n",
    "print(add_element_to_collection(5, (1, 2, 3, 4)))  # output: (1, 2, 3, 4, 5)"
   ]
  }
 ],
 "metadata": {
  "colab": {
   "authorship_tag": "ABX9TyNZez27cmcnBVeILn93Ocfi",
   "provenance": []
  },
  "kernelspec": {
   "display_name": "Python 3 (ipykernel)",
   "language": "python",
   "name": "python3"
  },
  "language_info": {
   "codemirror_mode": {
    "name": "ipython",
    "version": 3
   },
   "file_extension": ".py",
   "mimetype": "text/x-python",
   "name": "python",
   "nbconvert_exporter": "python",
   "pygments_lexer": "ipython3",
   "version": "3.12.4"
  }
 },
 "nbformat": 4,
 "nbformat_minor": 4
}
