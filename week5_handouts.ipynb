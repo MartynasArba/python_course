{
 "cells": [
  {
   "cell_type": "markdown",
   "metadata": {
    "id": "r4PQ5r9T13jE"
   },
   "source": [
    "# Week 5\n",
    "(Hopefully shorter due to a longer lecture)\n",
    "\n",
    "## Errors\n",
    "\n",
    "In Python, code that can't run correctly is often indicated by various [exceptions](https://docs.python.org/3/library/exceptions.html). Exceptions can be **raised** in various circumstances - probably the most common is `SyntaxError`, raised when you're missing a semicolon, comma, or other parts of the syntax.\n",
    "\n",
    "Raising errors can address potential problems in code **without crashing** it. Common syntax is this:\n",
    "\n",
    "```python\n",
    "try:\n",
    "  print(int(var))\n",
    "except ValueError:\n",
    "  #code to run in case a specific exception (ValueError) was raised\n",
    "  print('Please input a valid value!')\n",
    "```"
   ]
  },
  {
   "cell_type": "markdown",
   "metadata": {
    "id": "I5J1GHxodvqU"
   },
   "source": [
    "## Exercises\n",
    "Below are examples of buggy functions. Address these bugs by using exceptions to make sure it runs until the end."
   ]
  },
  {
   "cell_type": "code",
   "execution_count": 1,
   "metadata": {
    "colab": {
     "base_uri": "https://localhost:8080/",
     "height": 280
    },
    "id": "Ldnw18nqdna4",
    "outputId": "5d88a241-a320-4c60-8f8d-b1d28efb4c27"
   },
   "outputs": [
    {
     "ename": "TypeError",
     "evalue": "to_integer() missing 1 required positional argument: 'var'",
     "output_type": "error",
     "traceback": [
      "\u001b[1;31m---------------------------------------------------------------------------\u001b[0m",
      "\u001b[1;31mTypeError\u001b[0m                                 Traceback (most recent call last)",
      "Cell \u001b[1;32mIn[1], line 9\u001b[0m\n\u001b[0;32m      5\u001b[0m         \u001b[38;5;28mprint\u001b[39m(\u001b[38;5;124m'\u001b[39m\u001b[38;5;124mError occured, please input a number\u001b[39m\u001b[38;5;124m'\u001b[39m)\n\u001b[0;32m      6\u001b[0m     \u001b[38;5;66;03m# except Exception as e:\u001b[39;00m\n\u001b[0;32m      7\u001b[0m         \u001b[38;5;66;03m# raise e\u001b[39;00m\n\u001b[1;32m----> 9\u001b[0m \u001b[38;5;28mprint\u001b[39m(to_integer())\n",
      "\u001b[1;31mTypeError\u001b[0m: to_integer() missing 1 required positional argument: 'var'"
     ]
    }
   ],
   "source": [
    "def to_integer(var):\n",
    "    try:\n",
    "      return int(var)\n",
    "    except ValueError:\n",
    "        print('Error occured, please input a number')\n",
    "    # except Exception as e:\n",
    "        # raise e\n",
    "\n",
    "print(to_integer())"
   ]
  },
  {
   "cell_type": "code",
   "execution_count": null,
   "metadata": {
    "colab": {
     "base_uri": "https://localhost:8080/",
     "height": 297
    },
    "id": "dkzZP-ucfWGO",
    "outputId": "56ca0005-74c2-465f-e80c-6cb17b5a0e33"
   },
   "outputs": [],
   "source": [
    "def join_words(words):\n",
    "  result = ''\n",
    "  for word in words:\n",
    "      try:\n",
    "          result += ' ' + word\n",
    "      except TypeError:\n",
    "          print('Unsupported type, skipping')\n",
    "  return result\n",
    "\n",
    "join_words(['I', 'have', 2, 'cats'])"
   ]
  },
  {
   "cell_type": "code",
   "execution_count": null,
   "metadata": {
    "colab": {
     "base_uri": "https://localhost:8080/",
     "height": 297
    },
    "id": "EK8x6PiHe5Le",
    "outputId": "29443c55-af24-4a92-fe27-8a8ed578f5f7"
   },
   "outputs": [],
   "source": [
    "def divide_multiple_numbers(numbers, divisor):\n",
    "  result = []\n",
    "  for number in numbers:\n",
    "      try:\n",
    "          result.append(number / divisor)\n",
    "      except ZeroDivisionError:\n",
    "          print('Zero found, skipping')\n",
    "        \n",
    "  return result\n",
    "\n",
    "print(divide_multiple_numbers([1, 2, 3, 4], 0))"
   ]
  },
  {
   "cell_type": "code",
   "execution_count": null,
   "metadata": {
    "colab": {
     "base_uri": "https://localhost:8080/",
     "height": 321
    },
    "id": "rCX2lPlK0oLY",
    "outputId": "36c70c59-f052-410d-fe22-2eb654a46574"
   },
   "outputs": [],
   "source": [
    "def every_2nd_number(numbers):\n",
    "  indices = [i for i in range(20) if i % 2 == 0]\n",
    "  try:\n",
    "      return [numbers[i] for i in indices]\n",
    "  except IndexError:\n",
    "      return None\n",
    "\n",
    "number_list = [num for num in range(10)]\n",
    "\n",
    "every_2nd_number(number_list)"
   ]
  },
  {
   "cell_type": "code",
   "execution_count": null,
   "metadata": {
    "colab": {
     "base_uri": "https://localhost:8080/",
     "height": 297
    },
    "id": "turYgJHWkR3c",
    "outputId": "31895779-11a6-4caa-d9b8-7f3ee39faa63"
   },
   "outputs": [],
   "source": [
    "def get_number_of_Alice(phonebook):\n",
    "    try:\n",
    "        return phonebook['Alice']\n",
    "    except KeyError:\n",
    "        print('Alice not in phonebook!')\n",
    "\n",
    "phonebook = {\n",
    "    'John' : 865549326,\n",
    "    'Steve': 865959363,\n",
    "    'Stacy' : 865565246,\n",
    "    'Peter': 865587496,\n",
    "    'Mary' : 866217999\n",
    "}\n",
    "\n",
    "get_number_of_Alice(phonebook)"
   ]
  },
  {
   "cell_type": "code",
   "execution_count": null,
   "metadata": {
    "colab": {
     "base_uri": "https://localhost:8080/",
     "height": 297
    },
    "id": "KxpnxbTGk_v-",
    "outputId": "9b4d7dda-017f-4835-b6d0-9d99df2ff689"
   },
   "outputs": [],
   "source": [
    "def readfile(filename):\n",
    "  try:\n",
    "      file = open(filename, 'r')\n",
    "      content = file.read()\n",
    "      file.close()\n",
    "      return content\n",
    "  except FileNotFoundError:\n",
    "      print(\"No such file\")\n",
    "\n",
    "readfile('test.txt')"
   ]
  },
  {
   "cell_type": "markdown",
   "metadata": {
    "id": "49Aav6Trlsgl"
   },
   "source": [
    "## Working with files\n",
    "\n",
    "Opening files is quite simple in Python. The main function here is **`open()`**, with arguments noting the file name (path) and mode (read, write, etc). This opens a `file` object, which can be read, written to, or appended. Files must be closed to prevent errors and make the file accessible in further code:\n",
    "\n",
    "```python\n",
    "file_name = 'file.txt'\n",
    "mode = 'r'\n",
    "file = open(file_name, mode)\n",
    "file_content  = file.read()\n",
    "file.close()\n",
    "```\n",
    "\n",
    "Another way to do this is using the **`with`** statement, which then requires no `close()` function:\n",
    "```python\n",
    "with open(file_name, mode) as file:\n",
    "  content = file.read()\n",
    "```\n",
    "\n",
    "Files can be read line-by-line using a `for` loop:\n",
    "```python\n",
    "for line in file:\n",
    "  print(line)\n",
    "```\n",
    "\n",
    "Writing to a file is also simple:\n",
    "```python\n",
    "with open('file.txt', 'w') as file:\n",
    "  file.write('Line that will appear in a file')\n",
    "```"
   ]
  },
  {
   "cell_type": "code",
   "execution_count": null,
   "metadata": {},
   "outputs": [],
   "source": [
    "with open('text_output.txt', 'r') as file:\n",
    "    output = file.read()"
   ]
  },
  {
   "cell_type": "code",
   "execution_count": null,
   "metadata": {},
   "outputs": [],
   "source": [
    "output"
   ]
  },
  {
   "cell_type": "markdown",
   "metadata": {
    "id": "2CuBD-5XotmX"
   },
   "source": [
    "## Exercises\n",
    "1. Write a function that takes a list of measurements formated as tuples and a file name, then writes them to the file as a separate line.\n",
    "```python\n",
    "measurements = [('height', 65.5),\n",
    "     ('width', 12.9),\n",
    "      ('weight', 2.13),\n",
    "       ('color', 'red')]\n",
    "```\n",
    "\n",
    "2. Write a function that adds one extra measurement to the file from before.\n",
    "3. Write a function that reads a `.csv` file, and splits all values into lists. The final output should be a list of rows, which are all lists of values.\n",
    "*For now, run the code below to download and save the csv file*\n",
    "\n",
    "```python\n",
    "!curl -o species.csv https://raw.githubusercontent.com/MainakRepositor/Datasets/refs/heads/master/species.csv\n",
    "```\n",
    "4. Write a function to get the number of `Approved` species.\n",
    "5. Create a simple CLI (*command line interface*) of a text editor. It should be able to save text to a file, append a file, or open a file and display its contents.\n",
    "6. Transfer the text editor code to a `.py` script file and run it using the command line."
   ]
  },
  {
   "cell_type": "code",
   "execution_count": 2,
   "metadata": {},
   "outputs": [
    {
     "name": "stderr",
     "output_type": "stream",
     "text": [
      "  % Total    % Received % Xferd  Average Speed   Time    Time     Time  Current\n",
      "                                 Dload  Upload   Total   Spent    Left  Speed\n",
      "\n",
      "  0     0    0     0    0     0      0      0 --:--:-- --:--:-- --:--:--     0\n",
      " 17 16.6M   17 2962k    0     0  3136k      0  0:00:05 --:--:--  0:00:05 3155k\n",
      " 41 16.6M   41 7170k    0     0  3735k      0  0:00:04  0:00:01  0:00:03 3746k\n",
      " 66 16.6M   66 11.1M    0     0  3919k      0  0:00:04  0:00:02  0:00:02 3926k\n",
      " 91 16.6M   91 15.1M    0     0  3939k      0  0:00:04  0:00:03  0:00:01 3945k\n",
      "100 16.6M  100 16.6M    0     0  3982k      0  0:00:04  0:00:04 --:--:-- 3988k\n"
     ]
    }
   ],
   "source": [
    "!curl -o species.csv https://raw.githubusercontent.com/MainakRepositor/Datasets/refs/heads/master/species.csv"
   ]
  },
  {
   "cell_type": "code",
   "execution_count": null,
   "metadata": {},
   "outputs": [],
   "source": [
    "def read_csv(file_path):\n",
    "    data = []\n",
    "    with open(file_path, 'r', encoding = 'utf-8') as file:\n",
    "        for i, line in enumerate(file):\n",
    "            try:\n",
    "                data.append(line.split(','))\n",
    "            except UnicodeDecodeError:\n",
    "                print('One line error')\n",
    "            # if i > 100:\n",
    "            #     break\n",
    "                \n",
    "    return data\n",
    "path = r\"C:\\Users\\rokas\\Desktop\\PythonCourse\\species.csv\"\n",
    "data = read_csv(path)"
   ]
  },
  {
   "cell_type": "code",
   "execution_count": null,
   "metadata": {},
   "outputs": [],
   "source": [
    "for i, name in enumerate(data[0]):\n",
    "    print(f'{i}:{name}')"
   ]
  },
  {
   "cell_type": "code",
   "execution_count": null,
   "metadata": {},
   "outputs": [],
   "source": [
    "def count_approved(data):\n",
    "    approved_count = 0\n",
    "    for row in data:\n",
    "        record_status = row[7]\n",
    "        if record_status == 'Approved':\n",
    "            approved_count += 1\n",
    "    return approved_count\n",
    "count_approved(data)/len(data)"
   ]
  },
  {
   "cell_type": "code",
   "execution_count": null,
   "metadata": {},
   "outputs": [],
   "source": [
    "measurements = [('height', 65.5),\n",
    "     ('width', 12.9),\n",
    "      ('weight', 2.13),\n",
    "       ('color', 'red')]\n",
    "\n",
    "def measurements_to_file(measurements, file_name):\n",
    "    with open(file_name, 'w') as f:\n",
    "        for measurement in measurements:\n",
    "            f.write(str(measurement))\n",
    "            f.write('\\n')\n",
    "\n",
    "def add_measurement(new_measurement, file_name):\n",
    "    with open(file_name, 'a') as f:\n",
    "        f.write(str(new_measurement))\n",
    "        f.write('\\n')\n",
    "\n",
    "    \n",
    "file_name = 'measurements.txt'\n",
    "measurements_to_file(measurements, file_name)\n",
    "add_measurement(('length', 6.95), file_name)"
   ]
  },
  {
   "cell_type": "markdown",
   "metadata": {
    "id": "Y2YRY9yk1oVM"
   },
   "source": [
    "## Accessing the internet\n",
    "The most simple way to download HTTP files from the internet is by using `curl` in the command line. In Python notebooks, the most simple way to run command line functions is to use the **!** symbol:\n",
    "`!curl -o <file_name> <file_url>`\n",
    "\n",
    "There are multiple other ways to download content (for example, URLlib, covered in the lecture). You can also do it by using the [`requests`](https://pypi.org/project/requests/) package. Information is downloaded using `.get(url)`, and various properties can be accessed. To get all content, use `.content`, and to get it in all text, use `.text`. Other properties are less relevant at this stage.\n",
    "\n",
    "Text information is often formated in the `json` format, which is similar to a Python dictionary. The `json` python package allows easy conversion between the two. Use `json.loads(json_formatted)` to get a `dict`, and `json.dumps(dict_to_format)` to get the json-formatted string."
   ]
  },
  {
   "cell_type": "markdown",
   "metadata": {
    "id": "YbBBREIScVB_"
   },
   "source": [
    "## Exercises\n",
    "\n",
    "1. Access the contents of a weather [API](https://en.wikipedia.org/wiki/API) which provides live weather updates:\n",
    "\n",
    "`https://api.open-meteo.com/v1/forecast?latitude=54.68&longitude=25.28&hourly=temperature_2m`\n",
    "\n",
    "*You can set various parameters in the URL link as described in the [documentation](https://open-meteo.com/en/docs)*\n",
    "\n",
    "2. Access and print the most recent temperature reading."
   ]
  },
  {
   "cell_type": "code",
   "execution_count": 4,
   "metadata": {},
   "outputs": [
    {
     "name": "stdout",
     "output_type": "stream",
     "text": [
      "Requirement already satisfied: requests in c:\\users\\rokas\\miniconda3\\envs\\test\\lib\\site-packages (2.32.3)\n",
      "Requirement already satisfied: charset-normalizer<4,>=2 in c:\\users\\rokas\\miniconda3\\envs\\test\\lib\\site-packages (from requests) (3.3.2)\n",
      "Requirement already satisfied: idna<4,>=2.5 in c:\\users\\rokas\\miniconda3\\envs\\test\\lib\\site-packages (from requests) (3.7)\n",
      "Requirement already satisfied: urllib3<3,>=1.21.1 in c:\\users\\rokas\\miniconda3\\envs\\test\\lib\\site-packages (from requests) (2.2.2)\n",
      "Requirement already satisfied: certifi>=2017.4.17 in c:\\users\\rokas\\miniconda3\\envs\\test\\lib\\site-packages (from requests) (2024.7.4)\n"
     ]
    }
   ],
   "source": [
    "!pip install requests"
   ]
  },
  {
   "cell_type": "code",
   "execution_count": 9,
   "metadata": {},
   "outputs": [],
   "source": [
    "import requests\n",
    "\n",
    "latitude = 54.23\n",
    "longitude = 25.01\n",
    "\n",
    "# \"https://api.open-meteo.com/v1/forecast?latitude=\" + str(latitude) + \"&longitude\"\n",
    "\n",
    "url = f\"https://api.open-meteo.com/v1/forecast?latitude={latitude}&longitude={longitude}&hourly=temperature_2m\"\n",
    "data = requests.get(url)\n",
    "text = data.text"
   ]
  },
  {
   "cell_type": "code",
   "execution_count": 12,
   "metadata": {},
   "outputs": [
    {
     "data": {
      "text/plain": [
       "dict_keys(['latitude', 'longitude', 'generationtime_ms', 'utc_offset_seconds', 'timezone', 'timezone_abbreviation', 'elevation', 'hourly_units', 'hourly'])"
      ]
     },
     "execution_count": 12,
     "metadata": {},
     "output_type": "execute_result"
    }
   ],
   "source": [
    "import json\n",
    "dict_info = json.loads(text)\n",
    "dict_info.keys()"
   ]
  },
  {
   "cell_type": "code",
   "execution_count": 16,
   "metadata": {},
   "outputs": [
    {
     "data": {
      "text/plain": [
       "3.5"
      ]
     },
     "execution_count": 16,
     "metadata": {},
     "output_type": "execute_result"
    }
   ],
   "source": [
    "dict_info['hourly']['temperature_2m'][-1]"
   ]
  }
 ],
 "metadata": {
  "colab": {
   "provenance": []
  },
  "kernelspec": {
   "display_name": "Python 3 (ipykernel)",
   "language": "python",
   "name": "python3"
  },
  "language_info": {
   "codemirror_mode": {
    "name": "ipython",
    "version": 3
   },
   "file_extension": ".py",
   "mimetype": "text/x-python",
   "name": "python",
   "nbconvert_exporter": "python",
   "pygments_lexer": "ipython3",
   "version": "3.12.4"
  }
 },
 "nbformat": 4,
 "nbformat_minor": 4
}
