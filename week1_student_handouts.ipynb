{
 "cells": [
  {
   "cell_type": "markdown",
   "metadata": {
    "id": "Aag9AI_nHrWU"
   },
   "source": [
    "## Setting up Python\n",
    "1. Enable file extensions: [Apple](https://support.apple.com/en-az/guide/mac-help/mchlp2304/mac#:~:text=In%20the%20Finder%20on%20your,%E2%80%9CShow%20all%20filename%20extensions.%E2%80%9D) and [Windows](https://answers.microsoft.com/en-us/windows/forum/all/how-can-i-get-the-extension-to-display-along-with/ec523f53-357b-41eb-a6c7-9b6b95a91235)\n",
    "2. Install [Anaconda Navigator](https://www.anaconda.com/products/navigator) or [Miniconda](https://docs.anaconda.com/miniconda/miniconda-install/)\n",
    "3. Install an IDE. [Jupyter Lab](https://jupyterlab.readthedocs.io/en/stable/getting_started/installation.html), which comes pre-installed with Anaconda Navigator, or [Visual Studio Code](https://code.visualstudio.com/) are recommended.\n",
    "4. If using VSCode, check out extensions. See anything with Jupyter or Python in the title. Required extensions usually pop up when trying to run code.\n",
    "5. Create and activate an environment with `python=3.12`, create a Jupyter notebook, and run `print('whatever')`."
   ]
  },
  {
   "cell_type": "code",
   "execution_count": 1,
   "metadata": {},
   "outputs": [
    {
     "name": "stdout",
     "output_type": "stream",
     "text": [
      "hi\n"
     ]
    }
   ],
   "source": [
    "print('hi')"
   ]
  },
  {
   "cell_type": "markdown",
   "metadata": {
    "id": "ch_HY5u7IwyJ"
   },
   "source": [
    "## Fundamentals\n",
    "1. Create any variable and assign a value to it.\n",
    "2. Check the value of this variable by printing it and seeing the cell output\n",
    "3. See the value of the variable three times in a row by copy-pasting what you did previously\n",
    "4. Assign a new value to the same variable. Make this variable a number\n",
    "5. Check whether the variable is equal to the number that was assigned\n",
    "6. `None` can be used to initialize a variable, but means nothing by itself. It can also be used to check whether a variable has been set\n",
    "7. Read up (or listen to an explanation) of booleans: `True` and `False`"
   ]
  },
  {
   "cell_type": "code",
   "execution_count": 10,
   "metadata": {},
   "outputs": [],
   "source": [
    "#1\n",
    "kintamasis = 1"
   ]
  },
  {
   "cell_type": "code",
   "execution_count": 5,
   "metadata": {},
   "outputs": [
    {
     "name": "stdout",
     "output_type": "stream",
     "text": [
      "iki cia dar paleidzia\n"
     ]
    }
   ],
   "source": [
    "#2\n",
    "print('iki cia dar paleidzia')"
   ]
  },
  {
   "cell_type": "code",
   "execution_count": 8,
   "metadata": {},
   "outputs": [
    {
     "name": "stdout",
     "output_type": "stream",
     "text": [
      "1\n"
     ]
    },
    {
     "data": {
      "text/plain": [
       "1"
      ]
     },
     "execution_count": 8,
     "metadata": {},
     "output_type": "execute_result"
    }
   ],
   "source": [
    "#3\n",
    "print(kintamasis)\n",
    "kintamasis\n",
    "kintamasis"
   ]
  },
  {
   "cell_type": "code",
   "execution_count": 11,
   "metadata": {},
   "outputs": [
    {
     "name": "stdout",
     "output_type": "stream",
     "text": [
      "1\n",
      "2\n"
     ]
    }
   ],
   "source": [
    "#4\n",
    "print(kintamasis)\n",
    "kintamasis = 2\n",
    "print(kintamasis)"
   ]
  },
  {
   "cell_type": "code",
   "execution_count": 14,
   "metadata": {},
   "outputs": [],
   "source": [
    "#5\n",
    "palyginimas = (kintamasis == 2)"
   ]
  },
  {
   "cell_type": "code",
   "execution_count": 15,
   "metadata": {},
   "outputs": [
    {
     "data": {
      "text/plain": [
       "True"
      ]
     },
     "execution_count": 15,
     "metadata": {},
     "output_type": "execute_result"
    }
   ],
   "source": [
    "palyginimas"
   ]
  },
  {
   "cell_type": "code",
   "execution_count": 18,
   "metadata": {},
   "outputs": [
    {
     "name": "stdout",
     "output_type": "stream",
     "text": [
      "None\n"
     ]
    }
   ],
   "source": [
    "#6\n",
    "kintamasis = None\n",
    "kintamasis"
   ]
  },
  {
   "cell_type": "code",
   "execution_count": null,
   "metadata": {},
   "outputs": [],
   "source": [
    "#7"
   ]
  },
  {
   "cell_type": "markdown",
   "metadata": {
    "id": "09IpFTaIXvFd"
   },
   "source": [
    "## Numbers\n",
    "1. Calculate the value of the expression below using your phone and doing one step at a time. Then, write this expression in Python. Both values should match and be 11.\n",
    "Remember the order of operations.\n",
    " $5 + 3 × 2^2 - (8/4) × 3$\n",
    "2. Create two variables - one with a value of 2, the other with a value of 1.5. Check their types using `type()`. Why do you think there is a difference?\n",
    "3. Convert the second variable to type `int` using the function `int()` and print its value. What changed?\n",
    "4. Check if 0.1 + 0.1 + 0.1 is equal to 0.3. [Why does this happen?](https://docs.python.org/3/tutorial/floatingpoint.html) Try to use the `round()` function to solve this.\n",
    "5. Import and print the value of pi from the `math` library.\n",
    "6. Use the law of cosines and the `math` library to calculate the length of a side of a triangle, $c$, when the other two are known, as well as the angle between $c$ and $a$ in degrees, marked $C$.\n",
    "\n",
    "  Law of cosines: $c^2 = a^2 + b^2 - 2ab cosC$.\n",
    "  - $a = 2$\n",
    "  - $b = 5$\n",
    "  - $C = 40$\n",
    "\n",
    "7. Rewrite the previous exercise using the `**` operator instead of `math.sqrt()`.\n",
    "8. The modulus (`%`) operator gives the remainder of two numbers. This can be used to check whether one is divisible by another (for example, even or odd). Use this operator to check whether 427 is divisible by 7.\n",
    "9. Create two variables. Update one of them to be equal to itself plus the other variable. Use the `+=` operator.\n",
    "10. Find a number that gives `False` when converted to a boolean using `bool()`."
   ]
  },
  {
   "cell_type": "code",
   "execution_count": 37,
   "metadata": {},
   "outputs": [
    {
     "data": {
      "text/plain": [
       "3.6985282393974552"
      ]
     },
     "execution_count": 37,
     "metadata": {},
     "output_type": "execute_result"
    }
   ],
   "source": [
    "import math\n",
    "\n",
    "a = 2\n",
    "b = 5\n",
    "C = 40\n",
    "C = math.radians(C)\n",
    "\n",
    "c2 = a**2 + b**2 - 2 * a * b * math.cos(C)\n",
    "c = c2**0.5\n",
    "c"
   ]
  },
  {
   "cell_type": "code",
   "execution_count": 45,
   "metadata": {},
   "outputs": [
    {
     "data": {
      "text/plain": [
       "True"
      ]
     },
     "execution_count": 45,
     "metadata": {},
     "output_type": "execute_result"
    }
   ],
   "source": [
    "ar_dalinasi = ((427 % 7) == 0)\n",
    "ar_dalinasi"
   ]
  },
  {
   "cell_type": "code",
   "execution_count": null,
   "metadata": {},
   "outputs": [],
   "source": [
    "kintamasis = 0\n",
    "\n",
    "kintamasis += 1 #kintamasis = kintamasis + 1\n",
    "\n",
    "kintamasis *= 2 #kintamasis = kintamasis * 2"
   ]
  },
  {
   "cell_type": "code",
   "execution_count": 22,
   "metadata": {},
   "outputs": [
    {
     "data": {
      "text/plain": [
       "1.5707963267948966"
      ]
     },
     "execution_count": 22,
     "metadata": {},
     "output_type": "execute_result"
    }
   ],
   "source": [
    "import math as m\n",
    "\n",
    "math.radians(90)"
   ]
  },
  {
   "cell_type": "code",
   "execution_count": 35,
   "metadata": {},
   "outputs": [
    {
     "data": {
      "text/plain": [
       "2.0"
      ]
     },
     "execution_count": 35,
     "metadata": {},
     "output_type": "execute_result"
    }
   ],
   "source": [
    "4 ** 0.5"
   ]
  },
  {
   "cell_type": "code",
   "execution_count": 34,
   "metadata": {},
   "outputs": [
    {
     "data": {
      "text/plain": [
       "True"
      ]
     },
     "execution_count": 34,
     "metadata": {},
     "output_type": "execute_result"
    }
   ],
   "source": [
    "round(0.1 + 0.1 + 0.1, 1) == round(0.3, 1)"
   ]
  },
  {
   "cell_type": "code",
   "execution_count": 29,
   "metadata": {},
   "outputs": [
    {
     "name": "stdout",
     "output_type": "stream",
     "text": [
      "<class 'str'>\n"
     ]
    },
    {
     "data": {
      "text/plain": [
       "int"
      ]
     },
     "execution_count": 29,
     "metadata": {},
     "output_type": "execute_result"
    }
   ],
   "source": [
    "kintamasis = '1'\n",
    "print(type(kintamasis))\n",
    "kintamasis = int(kintamasis)\n",
    "type(kintamasis)\n",
    "\n",
    "int() #pavercia i sveika\n",
    "float() #pavercia i su kableliu\n",
    "str() #pavercia i teksta (string)"
   ]
  },
  {
   "cell_type": "code",
   "execution_count": 49,
   "metadata": {},
   "outputs": [
    {
     "data": {
      "text/plain": [
       "False"
      ]
     },
     "execution_count": 49,
     "metadata": {},
     "output_type": "execute_result"
    }
   ],
   "source": [
    "bool(0)"
   ]
  },
  {
   "cell_type": "code",
   "execution_count": null,
   "metadata": {},
   "outputs": [],
   "source": [
    "kintamasis = '1'\n",
    "kintamasis = int(kintamasis)"
   ]
  },
  {
   "cell_type": "markdown",
   "metadata": {
    "id": "6Kz2gAYb1knn"
   },
   "source": [
    "## Strings\n",
    "1. Create a variable that is of the `string` type. Try to multiply it by two.\n",
    "2. Create another variable. Try to add them together.\n",
    "3. Create a `string` variable containing numbers. Try to add a number, then convert this variable to the `int` type to access numerical operations.\n",
    "4. Multi strings are strings spanning multiple lines. This can be done using triple quotes: `\"\"\"`. Rewrite this string as a multi line string: `text = \"Lorem ipsum dolor sit amet, consectetur adipiscing elit, sed do eiusmod tempor incididunt ut labore et dolore magna aliqua.\"`\n",
    "5. This can also be done using new line symbols `\\n`. Try to achieve the same result using them. `\\t` symbol marks a tab."
   ]
  },
  {
   "cell_type": "code",
   "execution_count": 68,
   "metadata": {},
   "outputs": [
    {
     "data": {
      "text/plain": [
       "6"
      ]
     },
     "execution_count": 68,
     "metadata": {},
     "output_type": "execute_result"
    }
   ],
   "source": [
    "var1 = '5'\n",
    "var2 = '1'\n",
    "int(var1) + int(var2)"
   ]
  },
  {
   "cell_type": "code",
   "execution_count": 76,
   "metadata": {},
   "outputs": [
    {
     "name": "stdout",
     "output_type": "stream",
     "text": [
      "Lorem ipsum dolor sit amet, \"consectetur adipiscing elit, sed do eiusmod tempor incididunt ut labore et dolore magna aliqua.\n"
     ]
    }
   ],
   "source": [
    "text = \"Lorem ipsum dolor sit amet, consectetur adipiscing elit, sed do eiusmod tempor incididunt ut labore et dolore magna aliqua.\"\n",
    "print(text)"
   ]
  },
  {
   "cell_type": "markdown",
   "metadata": {
    "id": "XqTlRyOr4Z4L"
   },
   "source": [
    "## Indentation and if/else\n",
    "1. The `if` statement can be used to execute code conditionally. `else` is executed if the `if` statement is `False`. Use the `if` statement to check whether a variable is divisible by 9, and print yes or no based on the variable. If you want to include multiple statement checks, use the \"else if\" statement `elif`, which runs when `if` statement is false, but checks another condition.\n",
    "2. User input can be obtained by the `input()` function. Modify the previous exercise to use user input. It will need to be converted to a numerical format."
   ]
  },
  {
   "cell_type": "markdown",
   "metadata": {
    "id": "2UFTDzr_6EUh"
   },
   "source": [
    "This simple code can be written as a **python script** and [run using the command line](https://stackoverflow.com/questions/20318158/run-python-script-directly-from-command-line). Do this now.\n",
    "\n",
    "Finally, let's upload this to [**github**](https://github.com/)."
   ]
  },
  {
   "cell_type": "code",
   "execution_count": 92,
   "metadata": {
    "id": "ENXnTZKlk5WJ"
   },
   "outputs": [
    {
     "name": "stdin",
     "output_type": "stream",
     "text": [
      " 6\n"
     ]
    },
    {
     "name": "stdout",
     "output_type": "stream",
     "text": [
      "skaicius didesnis nei 5\n"
     ]
    }
   ],
   "source": [
    "skaicius = input()\n",
    "skaicius = int(skaicius)\n",
    "\n",
    "if skaicius > 5:\n",
    "    print('skaicius didesnis nei 5')\n",
    "elif skaicius == 5:\n",
    "    print('skaicius lygus 5')\n",
    "else:\n",
    "    print('skaicius mazesnis nei 5')"
   ]
  },
  {
   "cell_type": "code",
   "execution_count": null,
   "metadata": {},
   "outputs": [],
   "source": []
  }
 ],
 "metadata": {
  "colab": {
   "authorship_tag": "ABX9TyNjSdI1kPw2zCjnCTlqy34g",
   "provenance": []
  },
  "kernelspec": {
   "display_name": "Python 3 (ipykernel)",
   "language": "python",
   "name": "python3"
  },
  "language_info": {
   "codemirror_mode": {
    "name": "ipython",
    "version": 3
   },
   "file_extension": ".py",
   "mimetype": "text/x-python",
   "name": "python",
   "nbconvert_exporter": "python",
   "pygments_lexer": "ipython3",
   "version": "3.12.4"
  }
 },
 "nbformat": 4,
 "nbformat_minor": 4
}
