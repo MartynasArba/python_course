{
 "cells": [
  {
   "cell_type": "markdown",
   "metadata": {
    "id": "KWcXasgmAH4s"
   },
   "source": [
    "Python for Data Analysis, Vilnius University, 2024\n",
    "\n",
    "# HW1: writing custom functions\n",
    "\n",
    "Each task consists of three cells:\n",
    "1. Text cell containing the task description;\n",
    "1. A code cell to complete the task (with respective comment inside);\n",
    "1. Code cell with `assert` statements (do not modify it!).\n",
    "\n",
    "After providing your solution in the second cell, run both code cells one after another to self-check if the task was solved correctly.\n",
    "\n",
    "There are 25 points to collect (5 per task), and 4 bonus points.\n",
    "\n",
    "For this homework, **you cannot import any libraries - even in-built ones!**\n",
    "\n",
    "Don't hesitate to contact me or Martynas if you are stuck."
   ]
  },
  {
   "cell_type": "markdown",
   "metadata": {
    "id": "J4hUh1EcBwXD"
   },
   "source": [
    "# Task 1. Move code into a function\n",
    "\n",
    "This code calculates rounded RMSD between two lists of numbers (`values0` and `values1`). The result is stored in `round_rmsd`:\n",
    "\n",
    "```python\n",
    "values0 = [0.1, 1.2, 4.1, 7.7, 2.0, 8.2, 3.4]\n",
    "values1 = [9.1, 1.2, 4.4, 7.6, 2.1, 8.8, 6.7]\n",
    "differences = []\n",
    "\n",
    "for i in range(len(values0)):\n",
    "    d = abs(values0[i] - values1[i])\n",
    "    differences.append(d ** 2)\n",
    "\n",
    "msd = sum(differences) / len(differences)\n",
    "rmsd = msd ** 0.5\n",
    "round_rmsd = round(rmsd, 2)\n",
    "```\n",
    "\n",
    "- ❗️ _(2 points)_ Move this code into a function. It should have 2 parameters (two lists of numbers). It should return one value (rounded RMSD). Name the function `get_rmsd`.\n",
    "\n",
    "- ❗️ _(1 point)_ Write typehints in function.\n",
    "\n",
    "- ❕ _(bonus, 2 points)_ Convert this function into a one-liner (in a new cell).\n",
    "\n",
    "- ❗️ _(2 points)_ Add an `if-else` statement into function to ensure that lists of given values are not empty and have the same length, otherwise return `None` (do not raise any errors)."
   ]
  },
  {
   "cell_type": "code",
   "execution_count": null,
   "metadata": {
    "id": "pXpfvivOABbX"
   },
   "outputs": [],
   "source": [
    "# your code goes there"
   ]
  },
  {
   "cell_type": "code",
   "execution_count": null,
   "metadata": {
    "id": "o_bG8yrqD0dx"
   },
   "outputs": [],
   "source": [
    "assert get_rmsd([0.1, 1.2, 4.1, 7.7, 2.0, 8.2, 3.4], [9.1, 1.2, 4.4, 7.6, 2.1, 8.8, 6.7]) == 3.63\n",
    "assert get_rmsd([1], [3]) == 2.0\n",
    "\n",
    "assert get_rmsd([], []) == None\n",
    "assert get_rmsd([1, 2, 3], [1, 2]) == None  # lists of unequal lengths"
   ]
  },
  {
   "cell_type": "markdown",
   "metadata": {
    "id": "blO5VIw3E-x9"
   },
   "source": [
    "## Task 2. Remove hardcoded parameters from a function\n",
    "\n",
    "You are an [exobiology](https://en.wikipedia.org/wiki/Astrobiology) assistant. Your supervisor has sent you some sequences of extraterrestrial bacteria. These bacteria use a different genetic code, noted by X, Z, W, Y, and Q letters for its bases, but has somewhat similar transcription rules:\n",
    "- X is complementary to Z;\n",
    "- W is complementary to Y;\n",
    "- The extra rare base Q is always turned into W during the transcription process.\n",
    "\n",
    "This is a function which transcribes human sequences:\n",
    "\n",
    "```python\n",
    "def transcribe(seq: str) -> str:\n",
    "    result = \"\"\n",
    "    rules = {\"A\": \"U\", \"T\": \"A\", \"C\": \"G\", \"G\": \"C\"}\n",
    "    for base in seq:\n",
    "        result += rules[base]\n",
    "    return result\n",
    "```\n",
    "\n",
    "- ❗️ _(2 points)_ Update this function so that it can be used with the extraterrestrial sequences. _Do not leave the human transcription rules inside the function._\n",
    "\n",
    "- ❕ _(2 points)_ Make the function not case-sensitive.\n",
    "\n",
    "- ❗️ _(1 point)_ Add the possibility (not a requirement) for user to provide their own transcription rules. Ensure correct typehints.\n",
    "\n",
    "- ❗️ _(2 points)_ Add a condition to check if the sequence can be translated with the current ruleset, otherwise return `None`."
   ]
  },
  {
   "cell_type": "code",
   "execution_count": null,
   "metadata": {
    "id": "UfTRspMIE5BM"
   },
   "outputs": [],
   "source": [
    "# your code goes there"
   ]
  },
  {
   "cell_type": "code",
   "execution_count": null,
   "metadata": {
    "id": "S-dyeOmwFy7s"
   },
   "outputs": [],
   "source": [
    "assert transcribe(\"ZYWXQYQXWYXZXZXZYXWYZXQYWWXXXZYZYXWYXZ\") == \"XWYZWWWZYWZXZXZXWZYWXZWWYYZZZXWXWZYWZX\"\n",
    "\n",
    "## (bonus) uncomment to check if your function is not case-sensitive anymore\n",
    "# assert transcribe(\"YqQyyQ\") == \"WWWWWW\"\n",
    "\n",
    "assert transcribe(\"ABCBDCABCBDABCD\", {\"A\": \"B\", \"B\": \"C\", \"C\": \"D\", \"D\": \"A\"}) == \"BCDCADBCDCABCDA\"\n",
    "\n",
    "assert transcribe(\"ZWYYZQAZWQZ\") == None         # contains base \"A\" which is not defined in the ruleset\n",
    "assert transcribe(\"AAAAAAA\", {\"A\": \"\"}) == \"\"    # base \"A\" is in ruleset but transcribed into nothing"
   ]
  },
  {
   "cell_type": "markdown",
   "metadata": {
    "id": "f6RKfJCtIRaW"
   },
   "source": [
    "## Task 3. Edge cases\n",
    "\n",
    "This function produces a list of ordered [fibonacci numbers](https://www.britannica.com/science/Fibonacci-number) up to the provided number (including that number):\n",
    "\n",
    "```python\n",
    "def fibonacci_generator(upper_limit: int) -> list[int]:\n",
    "    fibonacci_numbers = [0, 1]\n",
    "    while True:\n",
    "        next_number = fibonacci_numbers[-1] + fibonacci_numbers[-2]\n",
    "        if next_number > upper_limit:\n",
    "            return fibonacci_numbers\n",
    "        fibonacci_numbers.append(next_number)\n",
    "```\n",
    "\n",
    "With `upper_limit=5`, the result is: `[0, 1, 1, 2, 3, 5]`.\n",
    "\n",
    "However, this function returns unexpected results if `upper_limit` is less than 1.\n",
    "\n",
    "- ❗️ _(2 points)_ Update this function, so that all numbers in the returned list **never** exceed `upper_limit`. The function should always take an integer and return a list.\n",
    "- ❗️ _(3 points)_ Update this function again: add a new parameter which takes a list of two integers as the start of fibonacci sequence. Ensure that output numbers still do not exeed `upper_limit`."
   ]
  },
  {
   "cell_type": "code",
   "execution_count": null,
   "metadata": {
    "id": "L5esSuJ4Gvls"
   },
   "outputs": [],
   "source": [
    "# your code goes there"
   ]
  },
  {
   "cell_type": "code",
   "execution_count": null,
   "metadata": {
    "id": "1qLYIRU_I8Bp"
   },
   "outputs": [],
   "source": [
    "assert fibonacci_generator(5) == [0, 1, 1, 2, 3, 5]\n",
    "assert fibonacci_generator(100) == [0, 1, 1, 2, 3, 5, 8, 13, 21, 34, 55, 89]\n",
    "assert fibonacci_generator(1) == [0, 1, 1]\n",
    "assert fibonacci_generator(0) == [0]\n",
    "assert fibonacci_generator(-1) == []\n",
    "assert fibonacci_generator(-2) == []\n",
    "assert fibonacci_generator(-100) == []\n",
    "\n",
    "assert fibonacci_generator(100, [5, 2]) == [5, 2, 7, 9, 16, 25, 41, 66]"
   ]
  },
  {
   "cell_type": "markdown",
   "metadata": {
    "id": "scnPJb8VJQho"
   },
   "source": [
    "## Task 4. Write a function from scratch\n",
    "\n",
    "While you were busy with the fibonacci generator, new data arrived from the exobiology lab: measurements of bacteria cell diameter. You need to prepare a function to calculate the median cell diameter.\n",
    "\n",
    "- ❗️ _(3 points)_ Write a function to calculate the median for a list of floats. The function should always return either a single float or None.\n",
    "  - Reminder: you cannot import any modules.\n",
    "\n",
    "- ❗️ _(2 points)_ You were informed that some cells were measured incorrectly and should be dropped from calculations. To indicate that, corresponding dataset values were set to zeroes. Update the median function so it would ignore zeros when calculating median.\n"
   ]
  },
  {
   "cell_type": "code",
   "execution_count": null,
   "metadata": {
    "id": "pUPil4CHJiAG"
   },
   "outputs": [],
   "source": [
    "# your code goes there"
   ]
  },
  {
   "cell_type": "code",
   "execution_count": null,
   "metadata": {
    "id": "q2rvVqItJ8ji"
   },
   "outputs": [],
   "source": [
    "assert calculate_median([1., 2., 3.]) == 2.0\n",
    "assert calculate_median([1., 2., 3., 4.]) == 2.5\n",
    "assert calculate_median([2.]) == 2.0\n",
    "assert calculate_median([]) == None\n",
    "assert calculate_median([1., 0., 2., 3.]) == 2.0\n",
    "assert calculate_median([0., 0., 0.]) == None"
   ]
  },
  {
   "cell_type": "markdown",
   "metadata": {
    "id": "u5TFCTLfK0rA"
   },
   "source": [
    "## Task 5. Complex data pre-processing\n",
    "\n",
    "The neighboring lab specializes in snails and have just received a dataset describing rare snails found in some obscure location. However, during coffee break, they accidentally left the data file open. Their lab cat Helix jumped on a keyboard, made some biscuits, and saved the file. The lab does not have any backups of this data and now needs to remove all corrupted data from the file. They ask for your help, as the file is too big to filter it manually.\n",
    "\n",
    "The snail data is in a CSV file. Each row contains measurements of a single snail. There are five columns:\n",
    "1. Snail identification number (positive integer)\n",
    "2. Latin name for snail species (two words separated by a single space, first starts with a capital letter, all other letters are lowercase, can only contain latin letters)\n",
    "3. Snail red color index (a [hexadecimal number](https://simple.wikipedia.org/wiki/Hexadecimal), consisting of two digits or A-F letters with minimum 00 and maximum FF)\n",
    "4. Snail shell size (positive float)\n",
    "5. Snail spirality index (float, can be both positive and negative but cannot be zero)\n",
    "\n",
    "The lab uploaded the corrupted file on Github (shame they didn't do it earlier). The file should be automatically downloaded when you run this code in a Notebook:\n",
    "\n",
    "```bash\n",
    "!wget https://raw.githubusercontent.com/Tallivm/vu-python/main/snail_data_corrupted.csv\n",
    "```\n",
    "\n",
    "- If downloading does not work, enter the link into a new browser window, copy the whole text (using Ctrl+A is highly advised), and save it into a new CSV file named \"snail_data_corrupted.csv\".\n",
    "\n",
    "❗️ _(5 points)_ Write code which would go through the contents of the data file, detect all rows with any errors, print the number of such rows, then save a new file containing only correct rows named \"snail_data_cleaned.csv\"."
   ]
  },
  {
   "cell_type": "code",
   "execution_count": null,
   "metadata": {
    "id": "BIoonxAuQzRe"
   },
   "outputs": [],
   "source": [
    "# your code goes there\n",
    "\n",
    "# with open('snail_data_corrupted.csv', 'r') as f:"
   ]
  }
 ],
 "metadata": {
  "colab": {
   "provenance": []
  },
  "kernelspec": {
   "display_name": "Python 3 (ipykernel)",
   "language": "python",
   "name": "python3"
  },
  "language_info": {
   "codemirror_mode": {
    "name": "ipython",
    "version": 3
   },
   "file_extension": ".py",
   "mimetype": "text/x-python",
   "name": "python",
   "nbconvert_exporter": "python",
   "pygments_lexer": "ipython3",
   "version": "3.12.4"
  }
 },
 "nbformat": 4,
 "nbformat_minor": 4
}
