{
 "cells": [
  {
   "cell_type": "markdown",
   "metadata": {
    "id": "nC4TAjQu9K79"
   },
   "source": [
    "# Week 3\n",
    "\n",
    "This practical covers [loops and control flow](https://en.wikipedia.org/wiki/Control_flow), which is the core of why programing is useful in general. This allows repeating code, as well as adapting to conditions or data.\n",
    "\n",
    "## Booleans\n",
    "\n",
    "*From previous practicals*\n",
    "\n",
    "Booleans are variables of the `bool` data type, and can hold only two values - `True` and `False`. They are binary, thus very computationally effient, and can also be taken literally when obtained from a comparison statement, e.g. `number > 5` (this can be literally **`True`** or **`False`** based on the value of the variable `number`).\n",
    "\n",
    "There are three main ways to obtain booleans:\n",
    "\n",
    "1. Assinging a value, e.g. `variable = True`\n",
    "2. Making a comparison, e.g. `variable = (number > 5)`\n",
    "3. Converting a variable of another type to boolean, e.g. `variable = bool(number)`\n"
   ]
  },
  {
   "cell_type": "code",
   "execution_count": 18,
   "metadata": {},
   "outputs": [
    {
     "data": {
      "text/plain": [
       "True"
      ]
     },
     "execution_count": 18,
     "metadata": {},
     "output_type": "execute_result"
    }
   ],
   "source": []
  },
  {
   "cell_type": "markdown",
   "metadata": {
    "id": "UDUGanzJ_eJP"
   },
   "source": [
    "## Exercises\n",
    "\n",
    "1. Create a boolean variable indicating whether it is raining today and print it to the screen\n",
    "2. Write the current temperature. Create a boolean that indicates whether it is warm and print it to the screen. It is considered warm is when the temperature is above 20&deg;C"
   ]
  },
  {
   "cell_type": "code",
   "execution_count": 19,
   "metadata": {
    "id": "b4YVVmdBbrQw"
   },
   "outputs": [
    {
     "data": {
      "text/plain": [
       "False"
      ]
     },
     "execution_count": 19,
     "metadata": {},
     "output_type": "execute_result"
    }
   ],
   "source": [
    "#1\n",
    "is_it_raining = False\n",
    "\n",
    "#2\n",
    "temperature = 18\n",
    "temperature > 20"
   ]
  },
  {
   "cell_type": "markdown",
   "metadata": {
    "id": "QO4Oyl3nAvom"
   },
   "source": [
    "Converting using `bool()` only gives `False` for empty variables (string or list), or the number 0.\n",
    "\n",
    "\n",
    "We can use [boolean algebra](https://en.wikipedia.org/wiki/Boolean_algebra) to evaluate multiple booleans.\n",
    "\n",
    "In python, the notations are:\n",
    "\n",
    "* ` and ` or `&`,\n",
    "* `or` or `|`,\n",
    "* `not`\n",
    "\n",
    "> To avoid confusion, it is recommended to use the \"word\" notations. The symbol notations also refer to set and [bitwise](https://www.geeksforgeeks.org/difference-between-and-and-in-python/) operations.\n",
    "\n",
    "Booleans are most commonly used in if-elif-else statements:\n",
    "\n",
    "```python\n",
    "#some conditions\n",
    "condition1 = False\n",
    "condition2 = False\n",
    "condition3 = True\n",
    "\n",
    "#if-else-elif\n",
    "if condition1:\n",
    "  print('condition1 is True')\n",
    "elif condition2 or condition3:\n",
    "  print('condition2 or condition3 is True')\n",
    "else:\n",
    "  print('no condition is True')\n",
    "```\n",
    "**Note the indentations!**\n",
    "\n",
    "For example, we can check whether the climate is tropical (*for this example, tropical is when it is raining and warm*):"
   ]
  },
  {
   "cell_type": "code",
   "execution_count": 35,
   "metadata": {},
   "outputs": [
    {
     "name": "stdout",
     "output_type": "stream",
     "text": [
      "Error\n"
     ]
    }
   ],
   "source": [
    "light = True\n",
    "just_woke_up = False\n",
    "time = 15\n",
    "\n",
    "if not light:\n",
    "    print('It is the night!')\n",
    "elif just_woke_up:\n",
    "    print('It is the morning!')\n",
    "elif time > 18:\n",
    "    print('It is the evening')\n",
    "else:\n",
    "    print('Error')\n",
    "    "
   ]
  },
  {
   "cell_type": "code",
   "execution_count": null,
   "metadata": {
    "colab": {
     "base_uri": "https://localhost:8080/"
    },
    "executionInfo": {
     "elapsed": 314,
     "status": "ok",
     "timestamp": 1726577479478,
     "user": {
      "displayName": "Martynas Arbačiauskas",
      "userId": "11400603195737396923"
     },
     "user_tz": -180
    },
    "id": "ZWoSok-4CRkM",
    "outputId": "db4fc71b-7d22-490c-aa51-5ce98156a8be"
   },
   "outputs": [
    {
     "name": "stdout",
     "output_type": "stream",
     "text": [
      "is the climate tropical?: False\n"
     ]
    }
   ],
   "source": [
    "tropical = raining and warm\n",
    "print(f'is the climate tropical?: {tropical}')"
   ]
  },
  {
   "cell_type": "markdown",
   "metadata": {
    "id": "jK_2RKdQEydI"
   },
   "source": [
    "## Exercises\n",
    "\n",
    "1. Write a program that gets user input (remember `input()`) and checks whether today is warm, medium, or cold (cold is <0&deg;C)."
   ]
  },
  {
   "cell_type": "code",
   "execution_count": 42,
   "metadata": {},
   "outputs": [
    {
     "name": "stdin",
     "output_type": "stream",
     "text": [
      " -15\n"
     ]
    },
    {
     "name": "stdout",
     "output_type": "stream",
     "text": [
      "It is cold\n"
     ]
    }
   ],
   "source": [
    "var = int(input())\n",
    "# print(var)\n",
    "if var > 20:\n",
    "    print('It is warm')\n",
    "elif var > 0:\n",
    "    print('It is medium')\n",
    "else:\n",
    "    print('It is cold')"
   ]
  },
  {
   "cell_type": "markdown",
   "metadata": {
    "id": "OtD5fSNpKqmA"
   },
   "source": [
    "## `for` loops\n",
    "\n",
    "A big part of programming deals with repetition and automation. In python, we have two types of loops that can be used to repeat code snippets:\n",
    "`for` and `while`.\n",
    "\n",
    "We'll deal with `for` loops first because they are more common. This loop will repeat the same code for each each element in a provided iterable (e.g. a list).\n",
    "\n",
    "This is the basic syntax:\n",
    "```python\n",
    "for thing in iterable:\n",
    "    print('do something')\n",
    "```\n",
    "\n",
    "> Do not use `for` or `in` when creating variables!\n",
    "\n",
    "> Mind the indentation (4 spaces or 1 tab, usually created automatically). Only indented code is run in the loop.\n",
    "\n",
    "The `for` loop will always be done for each element. If the list is empty, the\n",
    "loop won't be executed at all.\n",
    "Each element is accessible during the corresponding repetition when using a `for` loop. You can also insert if-elif-else statements into loops.\n",
    "\n",
    "`range(n)` can be used in a `for` loop to run it `n` times without needing a list."
   ]
  },
  {
   "cell_type": "code",
   "execution_count": 50,
   "metadata": {
    "id": "gQUugjIRTF-d"
   },
   "outputs": [
    {
     "name": "stdout",
     "output_type": "stream",
     "text": [
      "0 5\n",
      "1 15\n",
      "2 20\n",
      "3 25\n"
     ]
    }
   ],
   "source": [
    "# my_list = [5, 15, 20, 25]\n",
    "# squared = []\n",
    "# for el in my_list:\n",
    "#     squared.append(el ** 2)\n",
    "# print(squared)\n",
    "\n",
    "# text = 'some text is here'\n",
    "# for letter in text:\n",
    "#     if letter == 'i':\n",
    "#         print(letter)\n",
    "\n",
    "# for i in range(10):\n",
    "#     print(f'repetition {i}')\n",
    "\n",
    "my_list = [5, 15, 20, 25]\n",
    "\n",
    "for i, el in enumerate(my_list):\n",
    "    print(i, el)"
   ]
  },
  {
   "cell_type": "markdown",
   "metadata": {
    "id": "jl5VgpTtTHdI"
   },
   "source": [
    "## `while` loops\n",
    "\n",
    "This type of loop is more simple, but can also easily become infinite and break code.\n",
    "`while` evaluates some condition, and if that condition is `True`, then the loop continues for one more iteration, if `False`, then it terminates. For this reason, it's usually a good idea to have some variable that is created outside the loop and modified inside the loop, along with a condition statement that evaluates it.\n",
    "\n",
    "Syntax:\n",
    "```python\n",
    "while condition:\n",
    "  print('do something')\n",
    "```"
   ]
  },
  {
   "cell_type": "code",
   "execution_count": 52,
   "metadata": {
    "id": "U8TqlHVyU3T_"
   },
   "outputs": [
    {
     "name": "stdout",
     "output_type": "stream",
     "text": [
      "repeat\n",
      "repeat\n",
      "repeat\n",
      "repeat\n",
      "repeat\n",
      "repeat\n",
      "repeat\n",
      "repeat\n",
      "repeat\n",
      "repeat\n"
     ]
    }
   ],
   "source": [
    "times = 10\n",
    "time = 0\n",
    "\n",
    "while time < times:\n",
    "    print('repeat')\n",
    "    time += 1"
   ]
  },
  {
   "cell_type": "code",
   "execution_count": 53,
   "metadata": {},
   "outputs": [
    {
     "name": "stdin",
     "output_type": "stream",
     "text": [
      " asdfasdf\n"
     ]
    },
    {
     "name": "stdout",
     "output_type": "stream",
     "text": [
      "you input asdfasdf\n"
     ]
    },
    {
     "name": "stdin",
     "output_type": "stream",
     "text": [
      " asdf\n"
     ]
    },
    {
     "name": "stdout",
     "output_type": "stream",
     "text": [
      "you input asdf\n"
     ]
    },
    {
     "name": "stdin",
     "output_type": "stream",
     "text": [
      " 62\n"
     ]
    },
    {
     "name": "stdout",
     "output_type": "stream",
     "text": [
      "you input 62\n"
     ]
    },
    {
     "name": "stdin",
     "output_type": "stream",
     "text": [
      " dsf\n"
     ]
    },
    {
     "name": "stdout",
     "output_type": "stream",
     "text": [
      "you input dsf\n"
     ]
    },
    {
     "ename": "KeyboardInterrupt",
     "evalue": "Interrupted by user",
     "output_type": "error",
     "traceback": [
      "\u001b[1;31m---------------------------------------------------------------------------\u001b[0m",
      "\u001b[1;31mKeyboardInterrupt\u001b[0m                         Traceback (most recent call last)",
      "Cell \u001b[1;32mIn[53], line 2\u001b[0m\n\u001b[0;32m      1\u001b[0m \u001b[38;5;28;01mwhile\u001b[39;00m \u001b[38;5;28;01mTrue\u001b[39;00m:\n\u001b[1;32m----> 2\u001b[0m     var \u001b[38;5;241m=\u001b[39m \u001b[38;5;28minput\u001b[39m()\n\u001b[0;32m      3\u001b[0m     \u001b[38;5;28mprint\u001b[39m(\u001b[38;5;124mf\u001b[39m\u001b[38;5;124m'\u001b[39m\u001b[38;5;124myou input \u001b[39m\u001b[38;5;132;01m{\u001b[39;00mvar\u001b[38;5;132;01m}\u001b[39;00m\u001b[38;5;124m'\u001b[39m)\n",
      "File \u001b[1;32m~\\miniconda3\\envs\\test2\\Lib\\site-packages\\ipykernel\\kernelbase.py:1262\u001b[0m, in \u001b[0;36mKernel.raw_input\u001b[1;34m(self, prompt)\u001b[0m\n\u001b[0;32m   1260\u001b[0m     msg \u001b[38;5;241m=\u001b[39m \u001b[38;5;124m\"\u001b[39m\u001b[38;5;124mraw_input was called, but this frontend does not support input requests.\u001b[39m\u001b[38;5;124m\"\u001b[39m\n\u001b[0;32m   1261\u001b[0m     \u001b[38;5;28;01mraise\u001b[39;00m StdinNotImplementedError(msg)\n\u001b[1;32m-> 1262\u001b[0m \u001b[38;5;28;01mreturn\u001b[39;00m \u001b[38;5;28mself\u001b[39m\u001b[38;5;241m.\u001b[39m_input_request(\n\u001b[0;32m   1263\u001b[0m     \u001b[38;5;28mstr\u001b[39m(prompt),\n\u001b[0;32m   1264\u001b[0m     \u001b[38;5;28mself\u001b[39m\u001b[38;5;241m.\u001b[39m_parent_ident[\u001b[38;5;124m\"\u001b[39m\u001b[38;5;124mshell\u001b[39m\u001b[38;5;124m\"\u001b[39m],\n\u001b[0;32m   1265\u001b[0m     \u001b[38;5;28mself\u001b[39m\u001b[38;5;241m.\u001b[39mget_parent(\u001b[38;5;124m\"\u001b[39m\u001b[38;5;124mshell\u001b[39m\u001b[38;5;124m\"\u001b[39m),\n\u001b[0;32m   1266\u001b[0m     password\u001b[38;5;241m=\u001b[39m\u001b[38;5;28;01mFalse\u001b[39;00m,\n\u001b[0;32m   1267\u001b[0m )\n",
      "File \u001b[1;32m~\\miniconda3\\envs\\test2\\Lib\\site-packages\\ipykernel\\kernelbase.py:1305\u001b[0m, in \u001b[0;36mKernel._input_request\u001b[1;34m(self, prompt, ident, parent, password)\u001b[0m\n\u001b[0;32m   1302\u001b[0m \u001b[38;5;28;01mexcept\u001b[39;00m \u001b[38;5;167;01mKeyboardInterrupt\u001b[39;00m:\n\u001b[0;32m   1303\u001b[0m     \u001b[38;5;66;03m# re-raise KeyboardInterrupt, to truncate traceback\u001b[39;00m\n\u001b[0;32m   1304\u001b[0m     msg \u001b[38;5;241m=\u001b[39m \u001b[38;5;124m\"\u001b[39m\u001b[38;5;124mInterrupted by user\u001b[39m\u001b[38;5;124m\"\u001b[39m\n\u001b[1;32m-> 1305\u001b[0m     \u001b[38;5;28;01mraise\u001b[39;00m \u001b[38;5;167;01mKeyboardInterrupt\u001b[39;00m(msg) \u001b[38;5;28;01mfrom\u001b[39;00m \u001b[38;5;28;01mNone\u001b[39;00m\n\u001b[0;32m   1306\u001b[0m \u001b[38;5;28;01mexcept\u001b[39;00m \u001b[38;5;167;01mException\u001b[39;00m:\n\u001b[0;32m   1307\u001b[0m     \u001b[38;5;28mself\u001b[39m\u001b[38;5;241m.\u001b[39mlog\u001b[38;5;241m.\u001b[39mwarning(\u001b[38;5;124m\"\u001b[39m\u001b[38;5;124mInvalid Message:\u001b[39m\u001b[38;5;124m\"\u001b[39m, exc_info\u001b[38;5;241m=\u001b[39m\u001b[38;5;28;01mTrue\u001b[39;00m)\n",
      "\u001b[1;31mKeyboardInterrupt\u001b[0m: Interrupted by user"
     ]
    }
   ],
   "source": [
    "while True:\n",
    "    var = input()\n",
    "    print(f'you input {var}')"
   ]
  },
  {
   "cell_type": "markdown",
   "metadata": {
    "id": "8WSs8KS5T2a4"
   },
   "source": [
    "## Loop control statements\n",
    "\n",
    "There are some statements that can be inserted into loops to modify their execution:\n",
    "\n",
    "* `break` stops the loop\n",
    "* `continue` skipps one iteration\n",
    "* `pass` does nothing, used as placeholder code\n",
    "\n",
    "They are usually inserted into `if condition:` statements."
   ]
  },
  {
   "cell_type": "code",
   "execution_count": 60,
   "metadata": {
    "id": "CbiGZchvT0jM"
   },
   "outputs": [],
   "source": [
    "# for i in range(10000000000000000):\n",
    "#     if i>200:\n",
    "#         break\n",
    "#     else:\n",
    "#         pass\n",
    "# i = 0\n",
    "# while i < 50:\n",
    "#     i += 1\n",
    "#     # if i > 50:\n",
    "#     #     break\n",
    "#     # else:\n",
    "#     print(i)"
   ]
  },
  {
   "cell_type": "markdown",
   "metadata": {
    "id": "_0eZ-qTgVbyK"
   },
   "source": [
    "## List comprehensions\n",
    "\n",
    "List comprehensions are one way to quickly create a list by \"simplifying\" a `for` loop. This is usually done to improve readability.\n",
    "\n",
    "Basic syntax:\n",
    "\n",
    "```python\n",
    "some_list = [variable for variable in iterable]\n",
    "```\n",
    "\n",
    "It can be further modified to include `if` and more complex expressions:\n",
    "\n",
    "```python\n",
    "some_list = [expression for item in iterable if condition]\n",
    "```\n",
    "\n",
    "List comprehensions can be used to flatten nested lists (*lists in lists*):\n",
    "```python\n",
    "nested_list = [[0, 1, 2], [3], [4], [5], [6], [7], [8]]\n",
    "flat_list = [x for y in nested_list for x in y]\n",
    "```"
   ]
  },
  {
   "cell_type": "code",
   "execution_count": 68,
   "metadata": {},
   "outputs": [
    {
     "data": {
      "text/plain": [
       "['ai', 'bi', 'ci', 'di']"
      ]
     },
     "execution_count": 68,
     "metadata": {},
     "output_type": "execute_result"
    }
   ],
   "source": [
    "# my_list = []\n",
    "# for i in range(10):\n",
    "#     my_list.append(i)\n",
    "# my_list\n",
    "\n",
    "# my_list = [str(i) for i in range(10) if i%2 == 0]\n",
    "# my_list\n",
    "\n",
    "# old_list = ['a', 'b', 'c', 'd']\n",
    "# new_list = [letter + 'i' for letter in old_list]\n",
    "# new_list"
   ]
  },
  {
   "cell_type": "markdown",
   "metadata": {
    "id": "w_AMDFQjXHrP"
   },
   "source": [
    "## Zip\n",
    "\n",
    "If you want to move through two iterables simultaneously, the `zip()` function can be used.\n",
    "\n",
    "Basic syntax:\n",
    "\n",
    "```python\n",
    "iter1 = [1, 2, 3, 4, 5]\n",
    "iter2 = [6, 7, 8, 9, 10]\n",
    "\n",
    "for x in zip(iter1, iter2):\n",
    "  print(x)\n",
    "```\n",
    "\n",
    "This can be used to create dictionary comprehensions:\n",
    "\n",
    "```python\n",
    "keys = ['a', 'b', 'c', 'd', 'e']\n",
    "values = [1, 2, 3, 4, 5]\n",
    "\n",
    "some_dict = {key:val for (key, val) in zip(keys, values)}\n",
    "```\n",
    "\n"
   ]
  },
  {
   "cell_type": "code",
   "execution_count": 69,
   "metadata": {},
   "outputs": [
    {
     "name": "stdout",
     "output_type": "stream",
     "text": [
      "(9, 95)\n",
      "(10, 62)\n",
      "(10, 84)\n",
      "(11, 52)\n",
      "(21, 92)\n"
     ]
    }
   ],
   "source": [
    "list1 = [9, 10, 10, 11, 21]\n",
    "list2 = [95, 62, 84, 52, 92, 326, 6]\n",
    "\n",
    "for x in zip(list1, list2):\n",
    "    print(x)"
   ]
  },
  {
   "cell_type": "code",
   "execution_count": 70,
   "metadata": {},
   "outputs": [
    {
     "data": {
      "text/plain": [
       "{'key1': 95, 'key2': 651, 'key3': 651}"
      ]
     },
     "execution_count": 70,
     "metadata": {},
     "output_type": "execute_result"
    }
   ],
   "source": [
    "keys = ['key1', 'key2', 'key3']\n",
    "vals = [95, 651, 651, 84]\n",
    "\n",
    "new_dict = {key:val for (key, val) in zip(keys, vals)}\n",
    "new_dict"
   ]
  },
  {
   "cell_type": "code",
   "execution_count": 71,
   "metadata": {},
   "outputs": [
    {
     "name": "stdout",
     "output_type": "stream",
     "text": [
      "9\n",
      "2\n",
      "5\n",
      "6\n"
     ]
    }
   ],
   "source": [
    "some_set = {5, 9, 6, 2}\n",
    "for el in some_set:\n",
    "    print(el)"
   ]
  },
  {
   "cell_type": "markdown",
   "metadata": {
    "id": "t3DAMxFEKzB8"
   },
   "source": [
    "## Exercises\n",
    "\n",
    "1. Create a medical monitoring system that has three levels of urgency: `emergency`, `high_risk`, and `monitoring`. The system evaluates a `dict` of the following boolean patient parameters:\n",
    "```python\n",
    "patient_status = {\n",
    "'high_blood_pressure': True, # if the patient's blood pressure is too high\n",
    "'high_heart_rate': True, # if the patient's heart rate is abnormally high\n",
    "'high_temperature': True, # if the patient's body temperature is above normal\n",
    "'has_chest_pain': True, # if the patient reports chest pain\n",
    "'is_dehydrated': True # if the patient shows signs of dehydration\n",
    "}\n",
    "```\n",
    "The system should should print `EMREGENCY` if the patient has both chest pain and either high blood pressure or high heart rate.\n",
    "Print `HIGH RISK` if the patient has at least two of high blood pressure, high heart rate, high temperature, or dehydration.\n",
    "Print `MONITOR` if the patient has any single factor that is abnormal (`True`) but no emergency condition has been triggered. Finally, if no condition is abnormal, print `RELEASE`\n",
    "\n",
    "2. Write code to print a pyramid of hashtags (`#`) of any height `h`, which should be obtained as an input\n",
    "\n",
    "3. Write code to calculate the average of all numbers in a list without using `sum()` or `len`\n",
    "\n",
    "4. Print every number that is divisible by 13 up to 1000\n",
    "\n",
    "5. Write a program that records inputs until -1 is entered, then prints them as a list"
   ]
  },
  {
   "cell_type": "code",
   "execution_count": 105,
   "metadata": {},
   "outputs": [
    {
     "name": "stdout",
     "output_type": "stream",
     "text": [
      "Enter a number, -1 to quit\n"
     ]
    },
    {
     "name": "stdin",
     "output_type": "stream",
     "text": [
      " 61\n"
     ]
    },
    {
     "name": "stdout",
     "output_type": "stream",
     "text": [
      "Enter a number, -1 to quit\n"
     ]
    },
    {
     "name": "stdin",
     "output_type": "stream",
     "text": [
      " 32\n"
     ]
    },
    {
     "name": "stdout",
     "output_type": "stream",
     "text": [
      "Enter a number, -1 to quit\n"
     ]
    },
    {
     "name": "stdin",
     "output_type": "stream",
     "text": [
      " 94\n"
     ]
    },
    {
     "name": "stdout",
     "output_type": "stream",
     "text": [
      "Enter a number, -1 to quit\n"
     ]
    },
    {
     "name": "stdin",
     "output_type": "stream",
     "text": [
      " 2\n"
     ]
    },
    {
     "name": "stdout",
     "output_type": "stream",
     "text": [
      "Enter a number, -1 to quit\n"
     ]
    },
    {
     "name": "stdin",
     "output_type": "stream",
     "text": [
      " -21\n"
     ]
    },
    {
     "name": "stdout",
     "output_type": "stream",
     "text": [
      "Enter a number, -1 to quit\n"
     ]
    },
    {
     "name": "stdin",
     "output_type": "stream",
     "text": [
      " -1\n"
     ]
    },
    {
     "name": "stdout",
     "output_type": "stream",
     "text": [
      "[61, 32, 94, 2, -21]\n"
     ]
    }
   ],
   "source": [
    "save_nums = []\n",
    "\n",
    "while True:\n",
    "    print('Enter a number, -1 to quit')\n",
    "    num = int(input())\n",
    "\n",
    "    if num == -1:\n",
    "        break\n",
    "    else:\n",
    "        save_nums.append(num)\n",
    "\n",
    "print(save_nums)"
   ]
  },
  {
   "cell_type": "code",
   "execution_count": 103,
   "metadata": {},
   "outputs": [
    {
     "name": "stdout",
     "output_type": "stream",
     "text": [
      "0\n",
      "13\n",
      "26\n",
      "39\n",
      "52\n",
      "65\n",
      "78\n",
      "91\n",
      "104\n",
      "117\n",
      "130\n",
      "143\n",
      "156\n",
      "169\n",
      "182\n",
      "195\n"
     ]
    }
   ],
   "source": [
    "for num in range(200):\n",
    "    if num%13 == 0:\n",
    "        print(num)"
   ]
  },
  {
   "cell_type": "code",
   "execution_count": 102,
   "metadata": {},
   "outputs": [
    {
     "name": "stdout",
     "output_type": "stream",
     "text": [
      "Average is: 1432.25\n"
     ]
    }
   ],
   "source": [
    "my_list = [651,651,8694,98,51,8,321,984]\n",
    "list_sum = 0\n",
    "list_n = 0\n",
    "for el in my_list:\n",
    "    list_sum += el # list_sum = list_sum + el\n",
    "    list_n += 1\n",
    "print(f'Average is: {list_sum/list_n}')"
   ]
  },
  {
   "cell_type": "code",
   "execution_count": 95,
   "metadata": {},
   "outputs": [
    {
     "name": "stdout",
     "output_type": "stream",
     "text": [
      "input height:\n"
     ]
    },
    {
     "name": "stdin",
     "output_type": "stream",
     "text": [
      " 5\n"
     ]
    },
    {
     "name": "stdout",
     "output_type": "stream",
     "text": [
      "      #\n",
      "     ###\n",
      "    #####\n",
      "   #######\n",
      "  #########\n"
     ]
    }
   ],
   "source": [
    "print(\"input height:\")\n",
    "h = int(input())\n",
    "for i in range(h):\n",
    "    print((h-i)*' ', ('#'*(i+1))+('#'*(i)))"
   ]
  },
  {
   "cell_type": "code",
   "execution_count": 87,
   "metadata": {},
   "outputs": [
    {
     "name": "stdout",
     "output_type": "stream",
     "text": [
      "RELEASE HOME\n"
     ]
    }
   ],
   "source": [
    "patient_status = {\n",
    "'high_blood_pressure': False, # if the patient's blood pressure is too high\n",
    "'high_heart_rate': False, # if the patient's heart rate is abnormally high\n",
    "'high_temperature': False, # if the patient's body temperature is above normal\n",
    "'has_chest_pain': False, # if the patient reports chest pain\n",
    "'is_dehydrated': False # if the patient shows signs of dehydration\n",
    "}\n",
    "\n",
    "if patient_status['has_chest_pain'] and (patient_status['high_blood_pressure'] or patient_status['high_heart_rate']):\n",
    "    print('EMERGENCY')\n",
    "elif sum([patient_status['high_blood_pressure'], patient_status['high_heart_rate'], \n",
    "          patient_status['high_temperature'] ,patient_status['is_dehydrated']]) >= 2:\n",
    "    print('HIGH RISK')\n",
    "elif sum([patient_status['high_blood_pressure'], patient_status['high_heart_rate'], \n",
    "          patient_status['high_temperature'] ,patient_status['is_dehydrated']]) == 1:\n",
    "    print('MONITORING')\n",
    "else:\n",
    "    print('RELEASE HOME')"
   ]
  }
 ],
 "metadata": {
  "colab": {
   "authorship_tag": "ABX9TyP+vXnlkmQRy2es/1vwUl3H",
   "provenance": []
  },
  "kernelspec": {
   "display_name": "Python 3 (ipykernel)",
   "language": "python",
   "name": "python3"
  },
  "language_info": {
   "codemirror_mode": {
    "name": "ipython",
    "version": 3
   },
   "file_extension": ".py",
   "mimetype": "text/x-python",
   "name": "python",
   "nbconvert_exporter": "python",
   "pygments_lexer": "ipython3",
   "version": "3.12.4"
  }
 },
 "nbformat": 4,
 "nbformat_minor": 4
}
