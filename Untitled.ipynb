{
 "cells": [
  {
   "cell_type": "code",
   "execution_count": 1,
   "id": "8555d7a8-6ed7-4209-838f-e27f5250bed8",
   "metadata": {},
   "outputs": [
    {
     "data": {
      "text/plain": [
       "[0, 1, 1]"
      ]
     },
     "execution_count": 1,
     "metadata": {},
     "output_type": "execute_result"
    }
   ],
   "source": [
    "def fibonacci_generator(upper_limit: int, fibonacci_numbers = [0, 1]) -> [int]:\n",
    "    \n",
    "    #Outputs the first number if the first number is within the limit, while the second number isn't\n",
    "    if(upper_limit >= fibonacci_numbers[0] and upper_limit < fibonacci_numbers[1]):\n",
    "        fibonacci_numbers = fibonacci_numbers[:-1]\n",
    "        return fibonacci_numbers\n",
    "    \n",
    "    #If the first number is above the limit, output nothing\n",
    "    if(upper_limit < fibonacci_numbers[0]):\n",
    "        fibonacci_numbers = []\n",
    "        return fibonacci_numbers\n",
    "    \n",
    "    #Calculations and results\n",
    "    while True:\n",
    "        next_number = fibonacci_numbers[-1] + fibonacci_numbers[-2]\n",
    "        if next_number > upper_limit:\n",
    "            return fibonacci_numbers\n",
    "        fibonacci_numbers.append(next_number)\n",
    "fibonacci_generator(1)"
   ]
  },
  {
   "cell_type": "code",
   "execution_count": 2,
   "id": "edeabbb6-638f-4fbe-b839-f3b083f5c109",
   "metadata": {},
   "outputs": [],
   "source": [
    "assert fibonacci_generator(1) == [0, 1, 1]"
   ]
  },
  {
   "cell_type": "code",
   "execution_count": null,
   "id": "0691bd1a-5f00-4007-a46e-cde4c2358691",
   "metadata": {},
   "outputs": [],
   "source": []
  }
 ],
 "metadata": {
  "kernelspec": {
   "display_name": "Python 3 (ipykernel)",
   "language": "python",
   "name": "python3"
  },
  "language_info": {
   "codemirror_mode": {
    "name": "ipython",
    "version": 3
   },
   "file_extension": ".py",
   "mimetype": "text/x-python",
   "name": "python",
   "nbconvert_exporter": "python",
   "pygments_lexer": "ipython3",
   "version": "3.12.4"
  }
 },
 "nbformat": 4,
 "nbformat_minor": 5
}
