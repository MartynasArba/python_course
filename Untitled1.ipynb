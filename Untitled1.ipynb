{
 "cells": [
  {
   "cell_type": "code",
   "execution_count": 5,
   "id": "bb0b6bfc-5124-44e6-bf87-56ef13be8d3f",
   "metadata": {},
   "outputs": [],
   "source": [
    "# dicts= {x:y for x, y in zip(range(3), range(3))}"
   ]
  },
  {
   "cell_type": "code",
   "execution_count": 7,
   "id": "099f7dbc-7593-4f50-ba1a-26816fc69fe6",
   "metadata": {},
   "outputs": [
    {
     "data": {
      "text/plain": [
       "dict_keys([0, 1, 2])"
      ]
     },
     "execution_count": 7,
     "metadata": {},
     "output_type": "execute_result"
    }
   ],
   "source": [
    "dicts.keys()"
   ]
  },
  {
   "cell_type": "code",
   "execution_count": 16,
   "id": "3e2a1f58-8ce8-41a6-b73c-cb46e22b5baa",
   "metadata": {},
   "outputs": [
    {
     "data": {
      "text/plain": [
       "5"
      ]
     },
     "execution_count": 16,
     "metadata": {},
     "output_type": "execute_result"
    }
   ],
   "source": [
    "text  = 'This is a very nice string.'\n",
    "sum = 0\n",
    "table = [1 for letter in text if letter == ' ']\n",
    "for i in table:\n",
    "    sum += i\n",
    "sum"
   ]
  },
  {
   "cell_type": "code",
   "execution_count": 17,
   "id": "620a2679-1a0e-4547-9101-405b27ee04f6",
   "metadata": {},
   "outputs": [
    {
     "name": "stdout",
     "output_type": "stream",
     "text": [
      "guess!\n"
     ]
    },
    {
     "name": "stdin",
     "output_type": "stream",
     "text": [
      " 5\n"
     ]
    },
    {
     "name": "stdout",
     "output_type": "stream",
     "text": [
      "guess!\n"
     ]
    },
    {
     "name": "stdin",
     "output_type": "stream",
     "text": [
      " 6\n"
     ]
    },
    {
     "name": "stdout",
     "output_type": "stream",
     "text": [
      "guess!\n"
     ]
    },
    {
     "name": "stdin",
     "output_type": "stream",
     "text": [
      " 9\n"
     ]
    },
    {
     "name": "stdout",
     "output_type": "stream",
     "text": [
      "guess!\n"
     ]
    },
    {
     "name": "stdin",
     "output_type": "stream",
     "text": [
      " 2\n"
     ]
    },
    {
     "name": "stdout",
     "output_type": "stream",
     "text": [
      "guess!\n"
     ]
    },
    {
     "name": "stdin",
     "output_type": "stream",
     "text": [
      " 42\n"
     ]
    },
    {
     "name": "stdout",
     "output_type": "stream",
     "text": [
      "yay\n"
     ]
    }
   ],
   "source": [
    "num = 0\n",
    "while num != 42:\n",
    "    print('guess!')\n",
    "    num = int(input())\n",
    "print('yay')"
   ]
  },
  {
   "cell_type": "code",
   "execution_count": 23,
   "id": "8257b73c-4755-41fa-873f-b73f41d74bc6",
   "metadata": {},
   "outputs": [
    {
     "data": {
      "text/plain": [
       "2"
      ]
     },
     "execution_count": 23,
     "metadata": {},
     "output_type": "execute_result"
    }
   ],
   "source": [
    "num = 21\n",
    "\n",
    "divs = [x for x in range(2, num) if num%x == 0]\n",
    "len(divs)"
   ]
  },
  {
   "cell_type": "code",
   "execution_count": 27,
   "id": "e040086e-32c1-443c-b08c-7ac8407c05b8",
   "metadata": {},
   "outputs": [
    {
     "data": {
      "text/plain": [
       "{'h': 1, 'l': 2, 'o': 1, 'e': 1}"
      ]
     },
     "execution_count": 27,
     "metadata": {},
     "output_type": "execute_result"
    }
   ],
   "source": [
    "text = 'hello'\n",
    "\n",
    "uniques = set(text)\n",
    "counts = {letter:0 for letter in uniques}\n",
    "\n",
    "\n",
    "for letter in uniques:\n",
    "    for _ in text:\n",
    "        if _ == letter:\n",
    "            counts[letter] += 1 \n",
    "\n",
    "counts"
   ]
  },
  {
   "cell_type": "code",
   "execution_count": 28,
   "id": "7ab30a61-24fc-4b98-b7df-c1d37806fd69",
   "metadata": {},
   "outputs": [
    {
     "data": {
      "text/plain": [
       "{4, 25, 36, 64}"
      ]
     },
     "execution_count": 28,
     "metadata": {},
     "output_type": "execute_result"
    }
   ],
   "source": [
    "def extract_and_square_digits(string):\n",
    "    return {int(digit)**2 for digit in string if digit.isdigit()}\n",
    "\n",
    "extract_and_square_digits(\"abc82xyz56\")"
   ]
  },
  {
   "cell_type": "code",
   "execution_count": 41,
   "id": "a43d323b-00e7-4a8a-8309-1a95ca12a01e",
   "metadata": {},
   "outputs": [
    {
     "data": {
      "text/plain": [
       "{'umami': ['tomato', 'soya'],\n",
       " 'sour': ['lemon', 'grapefruit'],\n",
       " 'spicy': ['chilli'],\n",
       " 'sweet': ['banana', 'cake', 'grapes']}"
      ]
     },
     "execution_count": 41,
     "metadata": {},
     "output_type": "execute_result"
    }
   ],
   "source": [
    "foods = [ {'name': 'banana', 'flavor': 'sweet'}, \n",
    "         {'name': 'lemon', 'flavor': 'sour'}, \n",
    "         {'name': 'tomato', 'flavor': 'umami'}, \n",
    "         {'name': 'chilli', 'flavor': 'spicy'} , \n",
    "         {'name': 'cake', 'flavor': 'sweet'}, \n",
    "         {'name': 'grapefruit', 'flavor': 'sour'}, \n",
    "         {'name': 'grapes', 'flavor': 'sweet'}, \n",
    "         {'name': 'soya', 'flavor': 'umami'}]\n",
    "\n",
    "flavors = set([food['flavor'] for food in foods])\n",
    "\n",
    "dictionary = {}\n",
    "\n",
    "# for flavor in flavors:\n",
    "#     dictionary[flavor] = [food['name'] for food in foods if food['flavor'] == flavor]\n",
    "\n",
    "dictionary = {flavor: [food['name'] for food in foods if food['flavor'] == flavor] for flavor in flavors}\n",
    "\n",
    "dictionary\n",
    "# assert dictionary['sour'] == ['lemon', 'grapefruit']\n",
    "\n"
   ]
  },
  {
   "cell_type": "code",
   "execution_count": 55,
   "id": "fdea4aac-83ae-4b1b-bf09-9985f6e8fcd0",
   "metadata": {},
   "outputs": [
    {
     "data": {
      "text/plain": [
       "{3: 9, 4: 16, 6: 36, 8: 64, 9: 81}"
      ]
     },
     "execution_count": 55,
     "metadata": {},
     "output_type": "execute_result"
    }
   ],
   "source": [
    "\n",
    "# Create a function with two integer parameters let's say A and B, and one list parameter let's say C. \n",
    "# It should return a dictionary that maps numbers from A to B (B not included) to their squares, \n",
    "# but only for numbers divisible by integers inside list C.\n",
    "\n",
    "def func(A, B, C):\n",
    "    answer = {x:x**2 for x in range(A, B) if len([c for c in C if x % c == 0]) > 0}\n",
    "    return answer\n",
    "\n",
    "assert func(1, 10, [3, 4]) == {3: 9, 4: 16, 6: 36, 8: 64, 9: 81}\n",
    "assert func(4, 12, [3]) == {6: 36, 9: 81}\n",
    "# func(1, 10, [3, 4])"
   ]
  },
  {
   "cell_type": "code",
   "execution_count": 92,
   "id": "4412e845-b024-425f-a3aa-d8def95a3363",
   "metadata": {},
   "outputs": [
    {
     "data": {
      "text/plain": [
       "['gmail.com', 'yahoo.com']"
      ]
     },
     "execution_count": 92,
     "metadata": {},
     "output_type": "execute_result"
    }
   ],
   "source": [
    "# Write a function which, given a list of emails, \n",
    "# creates a list of unique domains in alphabetical order using list comprehension. \n",
    "# Create an additional function that filters the unique domains that contain a specific keyword \n",
    "# (e.g., \"gmail\") and returns them in alphabetical order.\n",
    "\n",
    "# To check that the function works, use this assert (change function name func to yours):\n",
    "def func(emails, filter = ''):\n",
    "    domains = sorted(list(set([email.split('@')[1] for email in emails])))\n",
    "    return ([domain for domain in domains if filter in domain])\n",
    "    # return domains\n",
    "\n",
    "func(['jonux@yahoo.com', 'john.travolta@gmail.com', 'bradpitt567@gmail.com'])\n",
    "# assert func(['jonux@yahoo.com', 'john.travolta@gmail.com', 'bradpitt567@gmail.com']) == ['gmail.com', 'yahoo.com']\n",
    "# assert func([]) == []"
   ]
  },
  {
   "cell_type": "code",
   "execution_count": 100,
   "id": "a4e8c95a-c3b9-41fb-bf2c-689f843409b9",
   "metadata": {},
   "outputs": [
    {
     "name": "stdout",
     "output_type": "stream",
     "text": [
      "guess!\n"
     ]
    },
    {
     "name": "stdin",
     "output_type": "stream",
     "text": [
      " 50\n"
     ]
    },
    {
     "name": "stdout",
     "output_type": "stream",
     "text": [
      "too little\n",
      "guess!\n"
     ]
    },
    {
     "name": "stdin",
     "output_type": "stream",
     "text": [
      " 75\n"
     ]
    },
    {
     "name": "stdout",
     "output_type": "stream",
     "text": [
      "too little\n",
      "guess!\n"
     ]
    },
    {
     "name": "stdin",
     "output_type": "stream",
     "text": [
      " 85\n"
     ]
    },
    {
     "name": "stdout",
     "output_type": "stream",
     "text": [
      "too much\n",
      "guess!\n"
     ]
    },
    {
     "name": "stdin",
     "output_type": "stream",
     "text": [
      " 80\n"
     ]
    },
    {
     "name": "stdout",
     "output_type": "stream",
     "text": [
      "too much\n",
      "guess!\n"
     ]
    },
    {
     "name": "stdin",
     "output_type": "stream",
     "text": [
      " 78\n"
     ]
    },
    {
     "name": "stdout",
     "output_type": "stream",
     "text": [
      "too much\n",
      "guess!\n"
     ]
    },
    {
     "name": "stdin",
     "output_type": "stream",
     "text": [
      " 77\n"
     ]
    },
    {
     "name": "stdout",
     "output_type": "stream",
     "text": [
      "yay!\n"
     ]
    }
   ],
   "source": [
    "import random\n",
    "num = int(random.random()*100)\n",
    "guess = -1\n",
    "\n",
    "while guess != num:\n",
    "    print('guess!')\n",
    "    guess = int(input())\n",
    "    if guess > num:\n",
    "        print('too much')\n",
    "    elif guess < num:\n",
    "        print('too little')\n",
    "    else:\n",
    "        print('yay!')\n"
   ]
  }
 ],
 "metadata": {
  "kernelspec": {
   "display_name": "Python 3 (ipykernel)",
   "language": "python",
   "name": "python3"
  },
  "language_info": {
   "codemirror_mode": {
    "name": "ipython",
    "version": 3
   },
   "file_extension": ".py",
   "mimetype": "text/x-python",
   "name": "python",
   "nbconvert_exporter": "python",
   "pygments_lexer": "ipython3",
   "version": "3.12.4"
  }
 },
 "nbformat": 4,
 "nbformat_minor": 5
}
